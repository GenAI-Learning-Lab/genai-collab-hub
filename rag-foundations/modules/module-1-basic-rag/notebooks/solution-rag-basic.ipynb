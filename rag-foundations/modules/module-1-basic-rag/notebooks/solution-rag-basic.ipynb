{
  "cells": [
    {
      "cell_type": "raw",
      "metadata": {
        "vscode": {
          "languageId": "raw"
        }
      },
      "source": [
        "# **AI-Powered Financial Analysis System - Project Prerequisites**\n",
        "\n",
        "This document outlines the necessary setup to complete all modules of the RAG learning roadmap. Please configure these items before starting Module 1.\n",
        "\n",
        "### **Required API Keys**\n",
        "\n",
        "You will need to create free accounts for the following services and obtain API keys. We will load these into our Google Colab environment using the secrets manager.\n",
        "\n",
        "1.  **Groq API Key**\n",
        "    * **Purpose:** Provides access to high-speed LLM inference.\n",
        "    * **Get it here:** [https://console.groq.com/keys](https://console.groq.com/keys)\n",
        "\n",
        "2.  **Hugging Face User Access Token**\n",
        "    * **Purpose:** Allows us to download models and use the Hugging Face ecosystem. A `read` role is sufficient.\n",
        "    * **Get it here:** [https://huggingface.co/settings/tokens](https://huggingface.co/settings/tokens)\n",
        "\n",
        "3.  **Tavily API Key**\n",
        "    * **Purpose:** Required for web search capabilities in **Module 9**.\n",
        "    * **Get it here:** [https://app.tavily.com](https://app.tavily.com)\n",
        "\n",
        "### **Required Files & Environment**\n",
        "\n",
        "1.  **Environment:** Google Colab.\n",
        "2.  **Source Document:** The **NVIDIA Q1 FY26 Earnings Report** PDF.\n",
        "    * **Action:** Download the press release PDF from the official NVIDIA news site: [NVIDIA Q1 FY2026 Financial Results](https://investor.nvidia.com/financial-info/quarterly-results/default.aspx).\n",
        "\n",
        "    DIRECT PDF Download LINK -> https://s201.q4cdn.com/141608511/files/doc_financials/2026/q1/b6df1c5c-5cb6-4a41-9d28-dd1bcd34cc26.pdf\n",
        "    * You will need to upload this file (`.pdf`) to your Colab session at the start of each module.\n"
      ]
    },
    {
      "cell_type": "raw",
      "metadata": {
        "vscode": {
          "languageId": "raw"
        }
      },
      "source": [
        "# **Module 1: The Foundation - Basic RAG**\n",
        "\n",
        "### **Objective**\n",
        "In this module, we will build the simplest possible Retrieval-Augmented Generation (RAG) pipeline. This serves as our **performance baseline**. Our goal is to understand the fundamental workflow of a RAG system and to observe its inherent limitations when applied to a complex financial document.\n",
        "\n",
        "### **Core Concept: The Classic RAG Pipeline**\n",
        "We will implement the foundational \"Load -> Split -> Embed -> Store -> Retrieve -> Generate\" workflow.\n",
        "* **Load:** Ingest the NVIDIA financial report PDF.\n",
        "* **Split:** Break the document into smaller, manageable chunks.\n",
        "* **Embed:** Convert each chunk into a numerical representation (vector).\n",
        "* **Store:** Save these vectors in a specialized database for efficient searching.\n",
        "* **Retrieve:** Given a user's query, find the most relevant chunks from the database.\n",
        "* **Generate:** Pass the retrieved chunks and the original query to a Large Language Model (LLM) to generate a final answer.\n",
        "\n",
        "### **Business Impact**\n",
        "By testing this simple system against our stakeholder queries, we will see where it succeeds and, more importantly, where it fails. This provides a clear, data-driven justification for the more advanced techniques we will implement in later modules to improve accuracy and reliability.\n"
      ]
    },
    {
      "cell_type": "raw",
      "metadata": {
        "vscode": {
          "languageId": "raw"
        }
      },
      "source": [
        "### **Step 1: Install Dependencies**\n",
        "First, we install all the necessary open-source libraries.\n"
      ]
    },
    {
      "cell_type": "code",
      "execution_count": null,
      "metadata": {},
      "outputs": [],
      "source": [
        "%pip install -q langchain langchain-community langchain-groq qdrant-client sentence-transformers pypdf\n"
      ]
    }
  ],
  "metadata": {
    "language_info": {
      "name": "python"
    }
  },
  "nbformat": 4,
  "nbformat_minor": 2
}
