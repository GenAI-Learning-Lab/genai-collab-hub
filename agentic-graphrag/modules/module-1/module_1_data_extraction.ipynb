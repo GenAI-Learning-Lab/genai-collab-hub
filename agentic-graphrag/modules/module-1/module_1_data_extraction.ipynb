{
  "cells": [
    {
      "cell_type": "markdown",
      "metadata": {
        "id": "FwdyYm9ICW7S"
      },
      "source": [
        "# Module 1: Structured Data Extraction with LLMs\n",
        "\n",
        "Welcome to the first module of Cohort-2! This notebook marks the beginning of our **Ingestion Pipeline**. Our goal is to transform the raw, unstructured text from Aperture Global Logistics (AGL) contracts into a structured, machine-readable format.\n",
        "\n",
        "**Our Mission:** Take 5 raw contract text files as input and use the Gemini 2.0 Flash LLM to extract key entities and clauses, producing a clean `contract_data.json` file as our final output."
      ]
    },
    {
      "cell_type": "markdown",
      "metadata": {
        "id": "h_MKan3ECW7U"
      },
      "source": [
        "## 1. Setup and Dependencies\n",
        "\n",
        "First, let's install and import the necessary Python libraries. We'll need libraries for asynchronous operations, data validation, and interacting with Google's Generative AI models."
      ]
    },
    {
      "cell_type": "code",
      "execution_count": 2,
      "metadata": {
        "id": "5zeKAkDHCW7U"
      },
      "outputs": [],
      "source": [
        "pip install -qU langchain-google-genai pydantic langchain python-dotenv isodate"
      ]
    },
    {
      "cell_type": "code",
      "execution_count": 3,
      "metadata": {
        "id": "mqX6WbM3CW7V"
      },
      "outputs": [],
      "source": [
        "import asyncio\n",
        "import json\n",
        "import os\n",
        "import getpass\n",
        "from datetime import datetime\n",
        "from typing import List, Optional\n",
        "#from google.colab import userdata\n",
        "\n",
        "import isodate\n",
        "from langchain_google_genai import ChatGoogleGenerativeAI\n",
        "from pydantic import BaseModel, Field\n",
        "#from tqdm.asyncio import tqdm as async_tqdm\n",
        "from google.colab import userdata"
      ]
    },
    {
      "cell_type": "markdown",
      "metadata": {
        "id": "5KlXKvL4CW7V"
      },
      "source": [
        "## 2. Configure Google API Key\n",
        "\n",
        "To use the Gemini model, you need to configure your Google API key. The following cell will securely prompt you to enter your key."
      ]
    },
    {
      "cell_type": "code",
      "execution_count": 4,
      "metadata": {
        "colab": {
          "base_uri": "https://localhost:8080/"
        },
        "id": "AXa3EcKeCW7V",
        "outputId": "f1512025-c396-4252-c210-db6b86006a2f"
      },
      "outputs": [
        {
          "output_type": "stream",
          "name": "stdout",
          "text": [
            "Google API key set.\n"
          ]
        }
      ],
      "source": [
        "# Get the API key from google AI Studio using below URL if not already.\n",
        "# https://aistudio.google.com/app/apikey\n",
        "\n",
        "os.environ[\"GOOGLE_API_KEY\"] = userdata.get('GOOGLE_API_KEY')\n",
        "print(\"Google API key set.\")"
      ]
    },
    {
      "cell_type": "markdown",
      "metadata": {
        "id": "T7lmh-cfCW7V"
      },
      "source": [
        "## 3. Load Contract Data\n",
        "\n",
        "We need to load our five AGL contracts from their respective `.md` files. The function below will read all files from a specified folder.\n",
        "\n",
        "**Action:** Please create a folder named `data` in the same directory as this notebook and place the 5 AGL contract `.md` files inside it."
      ]
    },
    {
      "cell_type": "code",
      "source": [
        "# Mount Google Drive (run this cell first)\n",
        "from google.colab import drive\n",
        "drive.mount('/content/drive')\n",
        "\n",
        "# Navigate to your notebook directory in Drive\n",
        "import os\n",
        "# Change this path to match your Drive folder structure\n",
        "# For example, if your notebook is in \"My Drive/Colab Notebooks/agentic-graphrag/\"\n",
        "notebook_path = \"/content/drive/MyDrive/1. Learning/01_GenAI_Community_Work/02-GenAI Collab Hub/Cohort-2/Notebooks\"\n",
        "os.chdir(notebook_path)\n",
        "\n",
        "print(f\"Current working directory: {os.getcwd()}\")\n",
        "print(f\"Contents of current directory: {os.listdir('.')}\")"
      ],
      "metadata": {
        "colab": {
          "base_uri": "https://localhost:8080/"
        },
        "id": "hnPTDsKldf0i",
        "outputId": "cc9740cb-08d3-4097-b6f1-f5f8700cfb0f"
      },
      "execution_count": 5,
      "outputs": [
        {
          "output_type": "stream",
          "name": "stdout",
          "text": [
            "Drive already mounted at /content/drive; to attempt to forcibly remount, call drive.mount(\"/content/drive\", force_remount=True).\n",
            "Current working directory: /content/drive/MyDrive/1. Learning/01_GenAI_Community_Work/02-GenAI Collab Hub/Cohort-2/Notebooks\n",
            "Contents of current directory: ['data', 'module-1.ipynb', 'contract_data.json', 'module-1-data-extraction.ipynb']\n"
          ]
        }
      ]
    },
    {
      "cell_type": "code",
      "execution_count": 6,
      "metadata": {
        "colab": {
          "base_uri": "https://localhost:8080/"
        },
        "id": "2f1KzTDUCW7W",
        "outputId": "a787c706-e017-430e-beeb-cddf01b63b53"
      },
      "outputs": [
        {
          "output_type": "stream",
          "name": "stdout",
          "text": [
            "Files found in data: ['Contract_01_Transportation_AGL_Tonglu.md', 'Contract_02_MSA_AGL_Fonterra.md', 'Contract_05_Reseller_AGL_LogiSync.md', 'Contract_04_Distributor_AGL_Cyberdyne.md', 'Contract_03_Services_AGL_InnovateSolutions.md']\n",
            "Successfully loaded 5 contracts.\n",
            "Contract files loaded: ['Contract_01_Transportation_AGL_Tonglu', 'Contract_02_MSA_AGL_Fonterra', 'Contract_05_Reseller_AGL_LogiSync', 'Contract_04_Distributor_AGL_Cyberdyne', 'Contract_03_Services_AGL_InnovateSolutions']\n"
          ]
        }
      ],
      "source": [
        "def read_markdown_files(folder_path):\n",
        "    \"\"\"\n",
        "    Reads all .md files from a specified folder and returns a list of dictionaries.\n",
        "    Each dictionary contains:\n",
        "        - 'file_id': the filename without extension\n",
        "        - 'text': the full text content of the markdown file\n",
        "    \"\"\"\n",
        "    data = []\n",
        "    # Check if the folder exists; if not, raise an error with a helpful message\n",
        "    if not os.path.exists(folder_path):\n",
        "        print(f\"Folder path: {folder_path}\")\n",
        "        print(f\"Current directory contents: {os.listdir('.')}\")\n",
        "        raise FileNotFoundError(f\"Folder '{folder_path}' not found. Please ensure the 'data' folder is in your Drive directory: {os.getcwd()}\")\n",
        "\n",
        "    # Iterate over all files in the folder\n",
        "    print(f\"Files found in {folder_path}: {os.listdir(folder_path)}\")\n",
        "    for filename in os.listdir(folder_path):\n",
        "        # Only process files with a .md extension\n",
        "        if filename.endswith(\".md\"):\n",
        "            file_id = os.path.splitext(filename)[0]  # Remove file extension for ID\n",
        "            file_path = os.path.join(folder_path, filename)  # Full path to the file\n",
        "            # Open and read the file content as UTF-8 text\n",
        "            with open(file_path, \"r\", encoding=\"utf-8\") as file:\n",
        "                text = file.read()\n",
        "                # Append a dictionary with file_id and text to the data list\n",
        "                data.append({\"file_id\": file_id, \"text\": text})\n",
        "\n",
        "    return data\n",
        "\n",
        "# Load the contracts from the 'data' folder\n",
        "try:\n",
        "    contracts = read_markdown_files(\"data\")  # Attempt to read contract files from 'data'\n",
        "    print(f\"Successfully loaded {len(contracts)} contracts.\")\n",
        "    print(f\"Contract files loaded: {[contract['file_id'] for contract in contracts]}\")\n",
        "except FileNotFoundError as e:\n",
        "    print(e)  # Print the error message if the folder is missing"
      ]
    },
    {
      "cell_type": "code",
      "execution_count": 7,
      "metadata": {
        "id": "RUWlC5FPRmrP",
        "colab": {
          "base_uri": "https://localhost:8080/"
        },
        "outputId": "fcd0ea0e-533e-454c-eda6-4821358954a3"
      },
      "outputs": [
        {
          "output_type": "stream",
          "name": "stdout",
          "text": [
            "--- Sample of Loaded Contracts (first 2 records) ---\n",
            "{\n",
            "  \"file_id\": \"Contract_01_Transportation_AGL_Tonglu\",\n",
            "  \"text\": \"Exhibit 10.10\\n\\nRoad Transportation Agreement\\n\\nParty A (Shipper): Aperture Global Logistics\\nAddress: 123 Main Street, Anytown, USA 12345\\n\\nParty B (Carrier): Tonglu Tongze Logistics Ltd.\\nAddress: 12 Floor, HSBC Tower, Yinchun South Road, Tonglu County, Zhejiang Province\\n\\nDue to the need for logistics business, Party A and Party B enter into this Road Transportation Agreement (this \\\"Agreement\\\"), in which Party A pays the freight and Party B provides parcel transportation services to Party A. In accordance with relevant laws and regulations, Party A and Party B have sufficiently negotiated the specific matters and voluntarily reached the following Agreement based on equality, reciprocity and integrity. This Agreement is to be complied by both Parties.\\n\\n1. Party B shall provide parcel transportation services on highway line-haul routes based on the needs of Party A.\\n\\n2. Period of transportation services: this Agreement is valid for an indefinite term. Subsequent contracts might be entered in case of special business.\\n\\n3. Freight and payment method:\\n\\n(a) Verification of freight: Party A pays freight based on carload rate (such freight includes pick-up charges, door-to-door delivery charges and tax fees).\\n(b) Party A shall not pay any other charges other than the freight.\\n(c) Clearance of freight: the clearance method is based on both Parties' fund clearance arrangement and the final clearance amount is subject to actual carriage amount and EX-warehouse (\\\"EXW\\\") weight determined by Party A. Party B shall attach Party A's parcel EXW originals or copies for Party A's verification for clearance of freight.\\n\\n4. Transportation route, time and relevant rules\\n\\n(a) Transportation time:\\n(b) Any changes to the line-haul route and time are subject to both Parties' negotiation and written supplemental clauses.\\n(c) Party B shall have its own loading crews and the parcel shall be loaded by Party B's loading crews.\\n(d) Drivers, loading crews and attendant crews shall be employed and remunerated by Party B. Party A shall not interfere such matter.\\n\\n5. In order to guarantee rapid transfer of Party A's parcel, Party B shall strictly comply with the following obligations:\\n\\n(a) During the transportation, Part B shall completely comply with Party A's transportation arrangement and relevant systems. Party B shall bear any consequences and legal liability arising out of Party B's non-compliance, and Party A shall have no liability. Party A has the right to terminate this Agreement without further legal liability in the case that Party B does not comply with Party A's management and arrangement.\\n(b) Based on the business needs, Party A can negotiate with Party B to modify the transportation route and time whenever necessary, which shall be executed by signing supplemental agreements upon consensus of both Parties.\\n(c) Party B shall ensure the vehicles are in good conditions, the compartments are properly sealed without leakage and the vehicles are equipped with fire-fighting equipment. In the event of parcel damage resulting from leakage or fire, Party B shall indemnify at the standard rate of RMB200 per parcel, and indemnify the actual price for high-end insured parcel.\\n(d) Party B shall have valid and legal licenses for national road transportation. In the event of loss caused to Party A by delivery delay due to vehicles detention for the lack of license, Party B shall compensate for any loss to Party A.\\n(e) Party B shall arrive at the network partners determined by Party A according to the time and route stipulated in this Agreement, and strictly comply with the start time and end time. Unless otherwise approved by Party A, in the event of parcel transfer due to Party B's vehicle delay, Party B shall pay liquidated damages to Party A at the standard rate of RMB500 per trip on the first working day, RMB1,000 per trip on the second working day and RMB2,000 per trip on the third working day and such liquidated damages will be deducted from the current month's freight.\\n(f) In the event of delay by vehicle malfunction or traffic accidents, Party B shall settle such malfunction or accidents within half an hour. In the event of vehicle operation failure, Party B shall notify Party A within two hours and shall manage to deliver Party A's parcel to the destination designated by the contract.\\n(g) Party B shall provide copies of driver licenses, working licenses, occupation licenses, insurance documents, operation licenses, outsourcing contracts, tax certificates, business licenses, road transportation permits and business code licenses to Party A, and guarantee the authenticity, completeness, legality and validity of such licenses and materials.\\n(h) Party B's drivers shall have at least two years driving experience in large trucks and have relevant licenses. Party B shall bear any consequences and legal liability arising out of Party B's non-compliance, and Party A shall have no liability.\\n(i) Party B shall bear any consequences and economic punishments arising out of the breach of traffic rules by Party B's drivers and other staff, and Party A shall have no liability.\\n(j) Party B shall be responsible for driving safety. Party B shall bear any legal liability arising out of severe traffic accidents causing vehicle damage and personnel casualties, and Party A shall have no liability.\\n\\n6. Party B shall purchase sufficient insurance for the transportation vehicles. The coverage of third-party liability insurance shall not be lower than RMB1 million. In addition to vehicle personnel insurance, Party B shall at least purchase injury insurance for two persons with coverage not lower than RMB500,000 per person. Party B shall bear any consequence arising out of the non-compliance of insurance purchase, and Party A shall have no liability.\\n\\n7. Any parcel damage resulting from the fault of Party B's employees shall be compensated by Party B in accordance with Party A's relevant rules. Party B shall be responsible for all of Party A's economic loss and relevant liquidated damages arising out of any theft and disposal of stolen goods conducted by Party B's personnel. Such payment shall be deducted from the current month's freight and be topped up by Party B in case of inadequacy. The personnel breaching the rules shall be dismissed by Party B.\\n\\n8. In the event the vehicle space insufficiency which causes Party A's need unable to be satisfied nor can it be adjusted to satisfy Party A's need, Party A can terminate this Agreement without any compensation.\\n\\n9. Party A has the right to terminate this Agreement if Party B has breached the above articles in this Agreement. The termination of this Agreement shall not prejudice Party A's right to hold Party B responsible for breach of contract.\\n\\n10. Party B shall obtain Party A's written consent in the case the early termination of the Agreement. Party B shall pay one-month freight as liquidated damages in case of termination of the Agreement without consent. Within the contract period, Party B shall not charge the freight difference if Party A rents same-level vehicles. Party B shall also compensate Party A's other losses.\\n\\n11. Without Party A's approval, Party B shall not transfer the carriage of goods to any third party in the designated route. Otherwise, Party A has the right to terminate this Agreement directly.\\n\\n12. Any dispute arising out of the execution of this Agreement, which cannot be negotiated and settled by both Parties, shall be subject to the jurisdiction of the People's Court where this Agreement is signed.\\n\\n13. The annex of this Agreement constitutes a part of this Agreement and has the same effect as this Agreement. Any undealt matter can be negotiated and added by both Parties.\\n\\n14. This Agreement takes effect upon the signatures and seals of both Parties in triplicate. Party A shall have two copies and Party B shall have one copy.\\n\\n15. Any different interpretation of this Agreement by both Parties is subject to final interpretation by Party A.\\n\\n\\nParty A: Aperture Global Logistics      Party B: Tonglu Tongze Logistics Ltd.\\n\\n\\nCompany seal: /s/ Aperture Global Logistics               Date: December 22, 2014\\n\\nDate: December 22, 2014     \\n\\nSource: ZTO EXPRESS (CAYMAN) INC., F-1, 9/30/2016\"\n",
            "}\n",
            "{\n",
            "  \"file_id\": \"Contract_02_MSA_AGL_Fonterra\",\n",
            "  \"text\": \"EXHIBIT 10.18\\n\\nCERTAIN CONFIDENTIAL INFORMATION CONTAINED IN THIS DOCUMENT, MARKED WITH \\\"[***]\\\", HAS BEEN EXCLUDED BECAUSE IT IS NOT MATERIAL AND WOULD BE COMPETITIVELY HARMFUL IF PUBLICLY DISCLOSED.\\n\\nMASTER SUPPLY AGREEMENT\\n\\nTHIS MASTER SUPPLY AGREEMENT (\\\"Agreement\\\") is made as of 31 October 2019 (\\\"Effective Date\\\") by and between Aperture Global Logistics, a Delaware corporation with its headquarters located at 123 Main Street, Anytown, USA 12345 (\\\"Buyer\\\" or \\\"AGL\\\"), and Fonterra (USA) Inc., a California corporation with its principal place of business located at 8700 W. Bryn Mawr Avenue, Suite 500N, Chicago, IL 60631 (\\\"Supplier\\\" or \\\"Fonterra\\\") (each a \\\"Party\\\", collectively \\\"Parties\\\").\\n\\nWHEREAS AGL procures, manages, and utilizes various goods and services in the course of its global logistics operations (the \\\"Goods and Services\\\"); and\\n\\nWHEREAS Supplier produces raw materials and components including those used by AGL to support its operations;\\n\\nNOW THEREFORE in consideration of their respective rights and obligations as set forth in this Agreement, and for other good and valuable consideration, the adequacy and receipt of which are acknowledged, AGL and Supplier agree as follows:\\n\\n1 Supply of Ingredients\\n\\n1.1 Supplier will provide such materials to AGL or its Third Party Manufacturers (\\\"TPMs\\\") as are specified in any Master Purchase Commitment or any other purchase orders that the Parties may execute from time to time during the term of this Agreement (\\\"Ingredients\\\"). Ingredients will be produced at Supplier's facilities listed in a Master Purchase Commitment, or any other of Supplier's facilities approved in advance, in writing by AGL.\\n\\n1.2 AGL or its TPMs will place specific orders for Ingredients from Supplier by issuing a purchase order that specifies, at minimum, the item, quantities, price, delivery dates, and delivery and payment terms (each a \\\"Purchase Order\\\").\\n\\n1.3 AGL and Supplier may enter certain Master Purchase Commitments from time to time during the Term of this Master Supply Agreement. Such Master Purchase Commitments and any Purchase Orders issued against such Commitments shall be subject exclusively to the terms and conditions of this Agreement. In the event the terms of any Master Purchase Commitment conflicts with the terms of this Agreement, the terms of the Master Purchase Commitment shall control.\\n\\n1.4 Supplier will receive Purchase Orders by telephone, USPS, overnight courier, email, and fax transmission, Monday through Friday except on state or nationally recognized bank holidays. Purchase Orders not received by 3:00 p.m. Eastern Time are considered to be received on the following business day. Supplier will confirm or reject Purchase Orders within [***] of receipt of the Purchase Order. Orders not rejected in writing within such time will be deemed confirmed and accepted by Supplier. Each Purchase Order issued by AGL or its TPMs and accepted by Supplier shall be governed by the terms and conditions of this Agreement. Additional terms included in acknowledgments, standard terms and conditions, or any other documents or communications exchanged by the Parties in connection with the sale or purchase of any Ingredients shall be void and of no force or effect. The Parties may only modify, add to or amend any of the terms or conditions of this Agreement by a writing signed by authorized representatives of both Parties.\\n\\n1.5 Supplier represents and warrants that at the time and date of delivery, the Ingredients will comply with all specifications (\\\"Specifications\\\"), a copy of which will be attached to the relevant Master Purchase Commitment or Purchase Order accordingly. A Specification may be updated from time to time by AGL in its sole discretion, provided AGL provides Supplier with reasonable prior notice on any updates (\\\"Change Notification\\\"). Within [***] from receipt of the Change Notification, Supplier will either: (1) accept the Specification change at the current price and terms; or (2) submit to AGL a proposal (\\\"Proposal\\\") setting forth the conditions of acceptance that may include a change in price and/or other terms, including documentation to support same. Within [***] the Parties will discuss the Proposal in good faith and exercise their best efforts to agree on the appropriate adjustment if any. AGL will not issue any Purchase Orders, nor be required to issue any Purchase Orders to Supplier until AGL and Supplier have agreed on required Ingredient Specifications and any associated price and/or term adjustment. In the event the Parties fail to agree on required Ingredient Specifications or price and/or term adjustments despite their best good faith efforts, neither Party will have any further obligation with regard to purchase or supply of those Ingredients under any Master Purchase Commitments except that AGL shall take and pay for [***] of Ingredient inventory manufactured according to the then-current Specification.\\n\\n1.6 Supplier will provide a Certificate of Analysis (\\\"COA\\\") completed in accordance with the Specifications with any shipment of Ingredients.\\n\\n1.7 INTENTIONALLY LEFT BLANK\\n\\n1.8 This Agreement is nonexclusive and sets forth the terms and conditions under which the Parties will supply and purchase Ingredients from the other Party. Nothing herein is intended to, nor does, guarantee that either Party will supply or purchase any specific, item, in any specific quantity, or conclude any business transaction with the other.\\n\\n1.9 Supplier Performance metrics will be identified and tracked periodically through Supplier Performance Review meetings no more frequently than each calendar quarter during the Term. [***] Metric targets will be established by AGL and agreed by Fonterra and updated as needed. The ultimate goal is zero defects for quality and administrative compliance issues.\\n\\n1.10 Supplier agrees to make a good faith effort to provide Advance Ship Notices (\\\"ASN\\\") with bar-coded pallet labels; Invoices, Purchase Orders and other business transactions, as may be advised by AGL, for each Ingredient shipment. Supplier will provide, itself or through a third-party provider, the information via Electronic Data Interface (\\\"EDI\\\") if and as requested by AGL. The technical specifications for all required EDI transactions will be provided by AGL.\\n\\n2 Quality and Food Safety\\n\\n2.1 For the purposes set forth in Section 303(c) of the Federal Food, Drug, and Cosmetic Act (the \\\"Act\\\"), Supplier guarantees to AGL that as of the time and date of delivery, all Ingredients will not be adulterated or misbranded within the meaning of the Act, nor will any Ingredients constitute an article that may not, under the provisions of Sections 404 and 505 of the Act, be introduced into interstate commerce. The Supplier further guarantees that as of the time and date of delivery, all of the Ingredients will be in compliance with all applicable laws, regulations, requirements and programs including those administered by the Food and Drug Administration (the \\\"FDA\\\"), the United States Department of Agriculture (the \\\"USDA\\\") and any state or local food or drug laws then in effect. This guarantee specifically includes Proposition 65 (California Safe Drinking Water and Toxic Enforcement Act), and Supplier hereby certifies that the Ingredients will not contain any non-naturally occurring chemicals subject to Proposition 65 or that any such chemicals pose \\\"no significant risk\\\" or cause \\\"no observable effect\\\" as set forth in the California Health and Safety Code, 22 CCR \\u00a7\\u00a7 12701 et seq. and 22 CCR \\u00a7\\u00a7 12801 et seq., as amended. Supplier shall comply with all applicable regulatory requirements for determining and documenting that all Ingredients are at or below no significant risk levels and no observable effect levels, as applicable.\\n\\n2.2 Supplier shall develop and maintain a food safety/food defense program as required under the Food Safety Modernization Act 21 USC \\u00a7301 et seq and shall submit a copy of such plan (and any changes thereto) to AGL upon AGL's request. Supplier will conduct [***] third-party food safety/food defense audits (the \\\"Audits\\\") in compliance with, and consistent with, relevant audit schemes approved by the Global Food Safety Initiatives, AIB International, Silliker, or GMA SAFE. Supplier will submit summaries of audit reports to AGL's Quality Manager at [***] upon request. Failure to comply with the requirements of this Section 2.2 will constitute a material breach of this Agreement.\\n\\n2.3 Supplier will notify AGL immediately, by person-to-person voice communication or equivalent means, if any of the Ingredients contain, or are reasonably suspected to contain, material hazardous to human health, including but not limited to, chemical, physical or biological hazards.\\n\\n2.4 AGL shall notify Supplier in writing if it determines any Ingredient fails to meet the Specifications. Supplier shall be given an opportunity to and will promptly inspect and/or test such Ingredients to confirm compliance to Specification. If after any reasonable, good faith inspection and testing it is confirmed that certain Ingredients fail to meet the Specifications [***].\\n\\n2.5 Subject to the occurring of a Force Majeure Event, if Supplier fails to deliver the Ingredients in accordance with the Specifications, including within the time specified on the Purchase Order, in addition to any other remedies available, AGL may terminate the Purchase Order in whole or in part. In the event of such a termination, Supplier shall continue performance of any nonterminated portion of the Purchase Order, or any nonterminated Purchase Orders, and the quantity of Ingredient ordered and so terminated shall be deducted against any relevant Master Purchase Commitment.\\n\\n2.6 AGL or its contracted third-party auditors may enter and audit/inspect Supplier's facilities where the Ingredients are produced, stored, packaged or otherwise processed [***] unless food safety is at issue or AGL has a good faith reason to believe the Ingredients are being stored, packaged, or processed in a way that is inconsistent with the Specifications, in which case an audit may be performed at any time during the Term. For routine visits and audits, AGL will provide [***] if facilities located in the US and with [***] if facilities are located [***], provided that such examination will be conducted during Supplier's normal business hours and in such a manner as to reasonably minimize disruption to Supplier's business, unless food safety is at issue, in which case such examination may be conducted at any time. Supplier shall cooperate in good faith with AGL during all such inspections. During qualification processes and on-site inspections, Supplier will present necessary documentation to ensure compliance with all applicable programs specified under 21 CFR Part 117 Current Good Manufacturing Practice, Hazard Analysis, and Risk-Based Preventative Controls for Human Food. Records of environmental monitoring activities by the Supplier, following Supplier's established environmental monitoring program and standard operating procedures will be made available upon request to AGL. Supplier will notify Buyer immediately via person-to- person voice communication in the event that any pathogen is found, or reasonably suspected, in the plant environment during any environmental monitoring activity that could have an impact on the quality or safety of AGL's Ingredients. In the event of an actual or suspected food safety concern, Supplier shall conduct sampling in all relevant areas and promptly provide results of such tests to AGL. If AGL or its representatives find that any of Supplier's facilities, processes, inventory, procedures or equipment are not in accordance or compliance with the requirements of this Agreement or applicable law or regulation, AGL will give notice to Supplier, and Supplier shall promptly take all reasonable steps to correct such deficiency as soon as possible. If correction of the deficiency cannot be affected within [***] of such notice, then Supplier shall promptly notify AGL with its plan to correct the deficiency including an estimated schedule. If the deficiency cannot be corrected within [***], unless otherwise agreed, then AGL shall have the right to terminate any Purchase Orders then outstanding, along with any Master Purchase Commitment related thereto.\\n\\n3 Business Continuity/Continuous Supply Assurances. Supplier will develop and maintain a business continuity plan that identifies critical pathways and potential crisis situations that could interrupt the supply of Ingredients to AGL and establish contingency plans for dealing with each crisis situation. Upon AGL's written request, Supplier will submit the business continuity plan to AGL for AGL's review.\\n\\n4 Intellectual Property. 4.1 Each Party shall retain ownership of all Intellectual Property Rights (as defined below): (1) owned or licensed by that Party prior to the commencement date of this Agreement; or (2) developed or acquired independently of this Agreement by that Party or its licensors other than in connection with this Agreement. 4.2 Ownership in the Intellectual Property Rights, if any, of any developments and/or modifications to the Ingredients during the Term shall be [***]. 4.3 For purposes of this Section 4, the term \\\"Intellectual Property Rights\\\" shall mean all statutory, common law and proprietary intellectual property rights, including rights in know-how, confidential information, copyright works, designs, inventions, patents, plant varieties, trademarks and all other rights, whether registered or unregistered (including applications for such rights).\\n\\n5 Confidential Information. \\\"Confidential Information\\\" means all business, financial and technical information of the Parties, or of a third- party as to whom a Party has an obligation of confidentiality, whether disclosed before or after the Effective Date and whether disclosed in writing, orally, by electronic delivery, or by inspection of tangible objects. Confidential Information includes, without limitation, trade secrets, ideas, processes, formulae (including formula and specifications for Ingredients and Finished Products), computer software (including source code), algorithms, data, data structures, know-how, copyrightable material, improvements, inventions (whether or not patentable), techniques, strategies, business and product development plans, timetables, forecasts, customer and supplier information, and information relating to product designs, specifications and schematics, product costs, product prices, product names, financial information, marketing plans, business opportunities, personnel, research, development and know-how. Confidential Information includes that which is marked or otherwise identified as confidential, as well as that which by its nature and the circumstances of its disclosure are reasonably understood to be confidential.\\n\\n5.1 Maintenance of Confidentiality and Limitations on Use. Each Party will hold in strict confidence and keep confidential all Confidential Information disclosed to it by the other. The Parties will use at least the same degree of care to avoid publication or dissemination of such Confidential Information as it uses with respect to similarly confidential information of its own, but in no event less than reasonable care. Use of such Confidential Information by such Party will be strictly limited to activities directly in support of its activities under this Agreement. The Parties will disclose such Confidential Information on a need-to-know basis only, and in all events only to such employees and independent contractors who are informed of the confidential nature of the Confidential Information and are bound by obligations substantially similar to those set forth herein applicable to such Confidential Information. Each Party hereby guarantees the performance of the provisions hereof by each person obtaining disclosure of such Confidential Information directly or indirectly from such Party.\\n\\n5.2 Copying and Return of Confidential Information. Each Party shall not make any copies or extracts of Confidential Information, or include such Confidential Information in its own materials except as reasonably required directly in support of its activities under this Agreement. When a Party no longer has need thereof in support of its activities under this Agreement or upon request of the other Party, whichever occurs first, such Party shall promptly cease using and shall return or destroy (and, if requested, certify destruction of) all such Confidential Information along with all tangible and electronic copies which it may have made, provided, however, that a Party is not obligated to remove Confidential Information from back up devices that have been made and are maintained in accordance with a corporate records retention policy.\\n\\n5.3 Certain Exceptions. Information will not be, or will cease being, Confidential Information, as the case may be, if Supplier can show:\\n\\n5.3.1 that such information entered the public domain other than by breach of this Agreement on the part of any Party obligated to confidentiality hereunder; 5.3.2 it is rightfully known to the receiving Party without obligation of confidentiality to any third-party prior to receipt of same from the disclosing Party as evidenced by bona fide written, dated documents; 5.3.3 it is independently developed by personnel of the receiving Party who have not had access to Confidential Information of the disclosing Party; and, 5.3.4 that it is generally made available to third-parties by the disclosing Party without obligation of confidentiality.\\n\\n5.4 Legally Required Disclosure. A Party shall not be in breach hereof if it discloses Confidential Information pursuant to a judicial or governmental order, or as required by applicable law or the rules of a recognized stock exchange, but any such disclosure shall be made only to the extent so ordered or required. In any such event, the Party (i) shall timely notify the other Party so that it may intervene in response to such order or take action to protect its interests (in which event such Party will cooperate in such effort), or (ii) if timely notice cannot be given, shall seek to obtain a protective order or confidential treatment from the court or government for such information.\\n\\n5.5 Defend Trade Secrets Act. Notwithstanding anything in this agreement to the contrary, a receiving Party is hereby notified in accordance with the US Defend Trade Secrets Act of 2016 that it will not be held criminally or civilly liable under any US federal or state trade secret law for the disclosure of a trade secret that: (x) is made (i) in confidence to a federal, state, or local government official, either directly or indirectly, or to an attorney; and (ii) solely for the purpose of reporting or investigating a suspected violation of law; or (y) is made in a complaint or other document that is filed under seal in a lawsuit or other proceeding.\\n\\n5.6 Trading in Securities. Supplier acknowledges that it is aware, and agrees to advise its directors, officers, employees, agents and representatives who are informed as to the matters which are the subject of this Agreement, that the United States securities laws prohibit any person who has material, non-public information concerning AGL, its parent and affiliate companies from purchasing or selling securities of those companies or from communicating such information to any other person under circumstances in which it is reasonably foreseeable that such person is likely to purchase or sell such securities.\\n\\n5.7 Title. As between the Parties, title or right to possess Confidential Information of AGL, except as otherwise provided herein, shall remain in AGL. Nothing in this Agreement shall be construed as granting or conferring any rights to any Confidential Information, except as otherwise explicitly stated in this Agreement.\\n\\n5.8 No Representation or Warranty. Except as expressly set forth herein, neither Party makes any representations or warranties of any nature whatsoever with respect to any Confidential Information it may provide, including, without limitation, any warranties of merchantability, fitness for a particular purpose or accuracy. All Confidential Information is provided on an \\\"as-is\\\" basis, and the recipient assumes all responsibility for its use thereof or reliance thereon. Further, each Party understands and acknowledges that any confidential information received from the other Party concerning future plans may be tentative and may not represent firm decisions concerning such plans, and neither Party shall be liable to the other Party for inaccuracies in Confidential Information under any theory of liability.\\n\\n6 Term and Termination.\\n\\n6.1 This Agreement will commence on the Effective Date and continue for an Initial Term of five (5) years, and will automatically renew for additional periods of five (5) years unless one Party notifies the other of its intention not to renew, no less than 12 months prior to the expiration of the then-current term, unless terminated as permitted under this Agreement.\\n\\n6.2 Either Party may terminate this Agreement for cause if the other Party fails to perform any material provision of this Agreement or commits a material breach of this Agreement which is not corrected within [***] after receiving written notice of the failure or breach. except that if the default is by Supplier that creates an immediate public food safety risk, AGL may terminate this Agreement immediately without regard to any period for correction.\\n\\n6.3 This Agreement will automatically terminate if either Party becomes insolvent or files a petition in bankruptcy, if a Party makes an assignment for the benefit of a creditor, if a receiver is appointed to take possession of any part of a Party's assets or if a Party becomes unable generally to pay its debts as they become due, or otherwise ceases to do business.\\n\\n6.4 On the termination of this Agreement for any reason, all rights granted to Supplier under this Agreement will immediately cease, and Supplier must deliver to AGL all written or recorded materials relating to the Confidential Information of AGL in the possession or control of Supplier or any of its related party, subject to Section 5.2.\\n\\n7 Indemnification and Insurance. 7.1 Each Party will defend and hold harmless the other Party and its subsidiaries, affiliates, officers, directors, employees, attorneys, insurers, shareholders, representatives and agents from and against any and all liabilities, losses, damages, claims, actions, proceedings, suits, costs or expenses, including reasonable attorney fees for counsel retained by the indemnified Party, brought by a Third Party, arising out of or in connection with: 7.1.1 any negligent or intentional act or omission of the indemnifying Party, its agents or employees; 7.1.2 any breach in or default by the indemnifying Party of its obligations under this Agreement; 7.1.3 any other loss, damage or injury caused by or arising out of the indemnifying Party's or its agents' or employees' on-site visits to the indemnified Party's premises; or any claims relating directly to trademark, patent or copyright infringement arising out of a Party's use of the other Party's (or its licensors') trademarks, patents or copyrights as permitted hereunder. 7.1.4 For purposes of this Section 7.1, \\\"Third Party\\\" means any individual, corporation, partnership, trust, cooperative, or other business organization or entity, and any other recognized organization, other than the Parties or their affiliates.\\n\\n7.2 Except for a Party's gross negligence or intentional acts or omissions and its obligations of indemnity under this Agreement, under no circumstances will either Party be liable to the other Party for [***].\\n\\n7.3 Supplier agrees to indemnify and hold AGL harmless from any and all employment-related claims, payments, entitlements, taxes, interest and penalties assessed against or obtained from AGL by any individual or authority as a consequence of or related to the performance by any agent or employee of Supplier.\\n\\n7.4 Supplier shall maintain insurance with an insurance company with an equivalent of an A.M. Best rating of \\\"A\\\" or better, of the following kinds and in the following amounts during the term of this Agreement: 7.5 7.5.1 Comprehensive General Liability (CGL) Insurance with limits of not less than [***] each occurrence and [***] in the aggregate, including Contractual, Completed-Operations and Product-Liability Coverage's with limits of not less than [***] for each occurrence, covering both bodily injury and property damage liability. 7.5.2 Umbrella/Excess Liability with limits of not less than [***]. 7.5.3 Workers' Compensation Coverage plus Occupational Disease Insurance if Occupational Disease coverage is required by the laws of the state where the Facility is located or work is to be performed. Employers Liability $500,000 each accident 7.5.4 Auto Liability $1,000,000 combined single limit.\\n\\n7.6 Supplier shall have Buyer named as an additional insured on its insurance policies in subparts 7.5.1 and 7.5.2 above. Supplier shall furnish Buyer with a certificate from its insurer verifying that it has the above insurance in effect during the duration of this Agreement and that insurer acknowledges (a) the contractual liability assumed by Supplier in this Agreement and (b) that Buyer is an additional insured on such policies and (c) Supplier's CGL policy is primary and Buyer's CGL policy is non-contributory and (d) a waiver of subrogation shall be provided in favor of Buyer on the CGL, Workers' Compensation and Auto policies. Said certificate of insurance shall require Supplier's insurance carrier to give Buyer no less than ten (10) days written notice of any cancellation or change in coverage. Failure to secure such insurance as of the date of execution of this Agreement shall constitute a breach of this Agreement. Supplier shall provide to AGL a certificate evidencing such insurance within thirty (30) days of a request for same from AGL.\\n\\n7.7 Supplier shall, at its own expense, maintain throughout the term of this Agreement, all insurance required by law or regulation in all countries in which this Agreement will be performed.\\n\\n8 Recall. If Ingredients provided by Supplier under this Agreement are misbranded, contaminated, or otherwise unfit for human consumption at the time they are delivered to AGL or its TPM (\\\"Defect\\\"), AGL in its sole discretion will make a determination of the necessity of a recall, market withdrawal, inventory retrieval, or other action designed to prevent the distribution or sale of the affected Finished Products, plus the type, extent, method of handling, disposition of the Finished Products as well as any affected work in progress, and all other particulars involved in such an action (a \\\"Recall\\\"), and AGL will execute any Recall. Supplier, in its sole discretion, will make a determination of the necessity of a recall, market withdrawal, inventory retrieval or other action designed to prevent the distribution or sale of the Ingredients. Subject to Section 9.1, Supplier shall bear the complete responsibility for a Recall occasioned by a Defect in the Ingredient and shall indemnify AGL for [***] resulting from or related to the Recall. Any Recall occasioned by AGL labels or by tampering with the Ingredients after they have left Supplier's control, or by improper storing or handling by AGL, will not be considered a Defect.\\n\\n9 Limitation of Liability.\\n\\n9.1 The maximum liability of one Party to the other Party and its affiliates in relation to this Agreement will be [***] (\\\"Liability Cap\\\"), provided however that:\\n\\n9.1.1 The Liability Cap will not apply to any (1) material confidentiality breach under Section 5, and/or (2) indemnification obligations under Section 7.1. 9.1.2 The Liability Cap will not apply to intentional misconduct and/or gross negligence.\\n\\n9.2 For the purpose of this Section, \\\"liability\\\" means liability for any and all claims, causes of action, judgments, costs and expenses (including but not limited to reasonable attorney fees and expenses), reimbursements, losses, and any and all other liabilities and damages of any kind, whether in contract, tort (including negligence), equity, statute or otherwise arising out of, in relation to or as a result of this Agreement.\\n\\n10 Force Majeure.\\n\\n10.1 Neither Party will be liable for any breach of its obligations under this Agreement resulting from causes beyond its reasonable control, including, but not limited to, an act of nature, drought, outbreak of foot and mouth disease, port and other transport strikes, war, fires, quarantine restrictions, insurrections or riots, energy shortages, embargo or the inability to obtain supplies or raw materials because of a global shortage or governmental action (a \\\"Force Majeure Event\\\"). Notwithstanding anything herein to the contrary, in the event of a Force Majeure Event, or any other circumstance that limits Fonterra's ability to produce or deliver product, Supplier will exercise its best efforts to comply with its obligations hereunder, mitigate the adverse impact on and not disfavor AGL, and will treat it in parity with its other customers.\\n\\n10.2 Any obligation of either Party under this Agreement will be postponed until the cause underlying the Force Majeure Event has been eliminated, at which time the obligation will again be in effect. Any loss of time by the Force Majeure Event will not be held against the Party who was unable to comply with its obligations under this Agreement because of the Force Majeure Event. The Party unable to comply with its obligations under this Agreement will immediately notify the other Party in writing that a Force Majeure Event has delayed its performance and will state, to the best of its knowledge, the revised date for performance. If a Force Majeure Event persists for longer than [***], the Party not directly affected by the Force Majeure Event may terminate this Agreement with regard to any relevant Master Purchase Commitments or Purchase Orders.\\n\\n10.3 Should Supplier be unable to comply with its obligations under this Agreement because of a Force Majeure Event, AGL may obtain elsewhere the Ingredients the Supplier was unable to deliver because of the Force Majeure Event and those Ingredients will be credited against any relevant Minimum Purchase Commitment. AGL will not be obligated to purchase those Ingredients from Supplier at a later time.\\n\\n11 Notices. Notices contemplated by this Agreement must be in writing and may be sent by registered or certified mail, postage prepaid, to the address specified in the first paragraph of this Agreement or to any other address designated by prior written notice.\\n\\n12 Governing Law; Dispute Resolution.\\n\\n12.1 This Agreement will be governed by the laws of the State of Delaware without regard to its conflicts of law principles.\\n\\n12.2 The Parties consent to, acknowledge, and agree that any dispute arising out of or relating to this Agreement, including the breach, termination or validity thereof, shall be brought exclusively before the state and federal courts in and for the City of Wilmington and County of New Castle, Delaware Each Party waives any objection based on forum non conveniens.\\n\\n13 Assignment. Neither Party may transfer or assign any of its rights or obligations under this Agreement without the prior written consent of the other Party, except that either Party may assign this Agreement to any entity controlled by it, its parents, subsidiaries, or affiliates, or to any purchaser of the business to which this Agreement relates subject to the other Parties consent which will not be unreasonably withheld or delayed.\\n\\n14 Supplier Conduct. Supplier agrees to engage in responsible and ethical business practices and conduct itself in full compliance with all applicable laws, rules, and regulations in every country in which it does business.\\n\\n15 California Transparency Act. AGL does not accept or support the use of illegal, abusive, or forced labor in our own facilities. Within its supply chain, Supplier will comply with all laws of the country they are doing business in and are subject to.\\n\\n16 U.S. Government Affirmative Action Regulations. During the performance of this contract or any purchase order issued hereunder, the Supplier agrees to comply with all applicable Federal, state and local laws respecting discrimination in employment and non-segregation of facilities including, but not limited to, requirements set out at 41 CFR \\u00a760-1.4, 41 CFR \\u00a761-300.10, 29 CFR Part 471 Appendix A to Subpart A, 41 CFR \\u00a760-300.5 and 41 CFR \\u00a760-741.5, which specific clauses are herein incorporated by reference into all covered contracts and subcontracts as required by Federal law. This Supplier and any applicable subcontractor shall abide by the requirements of 41 CFR \\u00a760- 300.5(a) and \\u00a760-741.5(a) to the extent applicable. These regulations prohibit discrimination against qualified individuals on the basis of protected veteran status or disability, and require affirmative action by covered prime contractors and subcontractors to employ and advance in employment qualified protected veterans and individuals with disabilities.\\n\\n17 Fair Labor Practices.\\n\\n17.1 Supplier shall provide workers with clean, safe and healthy work environments; recognize and respect the right of employees to free association and collective bargaining in accordance with law; comply with all applicable wage and hour laws; and properly verify the employment eligibility of its employees.\\n\\n17.2 Forced Labor. Suppliers will not employ, use or otherwise benefit from involuntary labor, forced labor, or labor that results from slavery or human trafficking. Supplier hereby certifies that: (i) it is in compliance with this paragraph; and (ii) all materials incorporated into its products comply with all applicable laws addressing slavery, human trafficking and other forms of forced labor. Supplier shall provide AGL with documentation establishing compliance with this paragraph upon [***] notice.\\n\\n17.3 Child Labor. Supplier will not employ anyone under the legal working age defined by local law. Supplier will comply with all applicable laws addressing the working requirements and conditions for child workers.\\n\\n17.4 Respectful Workplace. Supplier shall prohibit all forms of unlawful discrimination, abuse, harassment, violence and retaliation.\\n\\n18 Gifts and Entertainment. Supplier will not offer any gift to a AGL employee, contractor, or agent that is: (i) more than a nominal value; (ii) more than an infrequent occurrence; (iii) cash or cash equivalents; or (iv) illegal, sexually oriented, offensive or otherwise inappropriate.\\n\\n19 Environment & Sustainability. Supplier will comply with all applicable environmental laws and reporting obligations, maintain all required permits, and strive to responsibly manage the impacts of their operations on the environment.\\n\\n20 Anticorruption. Suppliers will not, directly or indirectly, offer improper gifts to government employees, engage in bribery or fraud, or take any other action that would cause a violation of the U.S. Foreign Corrupt Practices Act, the UK Bribery Act or any other applicable anti- corruption law.\\n\\n21 Miscellaneous.\\n\\n21.1 If any provision of this Agreement is determined to be illegal or unenforceable, all other provisions will continue in full force and effect.\\n\\n21.2 This Agreement may be executed concurrently by original or facsimile signature in counterparts, each of which will be deemed an original, but all of which together will constitute one and the same instrument.\\n\\n21.3 Each right and remedy of each Party described in this Agreement is cumulative and in addition to every other right or remedy, express or implied, now or hereafter arising, available to such Party, at law or in equity, or under any other agreement. No delay or omission by either Party in the exercise of any right or remedy arising under this Agreement will impair any such right or remedy or the right of such Party to resort thereto at a later date or be construed to be a waiver of any default under this Agreement. The indemnities, representations and warranties of each Party will survive termination of this Agreement.\\n\\n21.4 This Agreement, together with any schedules and exhibits and any Purchase Orders, Specifications and COAs, constitutes the complete agreement between the Parties and supersedes all prior agreements between the Parties regarding this subject matter. The Parties hereby agree that any such prior agreements are hereby terminated. No other contracts, warranties, promises or representations, either oral or in writing, relating to this Agreement will bind either Party except for the Purchase Orders, Specifications and COAs. This Agreement may not be amended or modified except by a writing signed by an authorized representative of the Party against whom such amendment or modification is asserted. This Agreement will be binding upon, and will inure to the benefit of, the parties, their successors and permitted assigns.\\n\\n(signature page follows)\\n\\nAgreed to and executed effective as of the date first above written. \\n\\n**Aperture Global Logistics**\\n\\nBy: /s/ Mr. Paul  Title: President Title: CFO\\n\\n**Fonterra (USA) Inc.**\\n\\nBy: /s/ Mr. Rode\\n\\nTitle: CFO\"\n",
            "}\n"
          ]
        }
      ],
      "source": [
        "# Print the first 2 records from the loaded contracts list as a sample.\n",
        "# This helps in quickly inspecting the raw data structure before processing.\n",
        "print(\"--- Sample of Loaded Contracts (first 2 records) ---\")\n",
        "# Use slicing [0:2] to get the first two elements of the list.\n",
        "# Use json.dumps with indent for pretty printing the dictionaries.\n",
        "if 'contracts' in locals() and contracts:\n",
        "    for i, contract in enumerate(contracts[:2]):\n",
        "        #print(f\"\\nContract {i+1}:\")\n",
        "        print(json.dumps(contract, indent=2))\n",
        "else:\n",
        "    print(\"Contracts variable not found or is empty.\")"
      ]
    },
    {
      "cell_type": "markdown",
      "metadata": {
        "id": "HpVyYV4bCW7W"
      },
      "source": [
        "## 4. Define the Data Schema with Pydantic\n",
        "\n",
        "This is the most critical step. We need to tell the LLM *exactly* what information to extract and what format to use. We do this by defining a Pydantic schema.\n",
        "\n",
        "- **`Location`**: Captures geographic information.\n",
        "- **`Organization`**: Represents a company or party involved in the contract.\n",
        "- **`Clause`**: Extracts a summary of specific legal clauses we're interested in.\n",
        "- **`Contract`**: The main model that brings everything together."
      ]
    },
    {
      "cell_type": "code",
      "execution_count": 8,
      "metadata": {
        "id": "hFgPDPOJCW7W"
      },
      "outputs": [],
      "source": [
        "CLAUSE_TYPES = [\n",
        "    \"Renewal & Termination\",\n",
        "    \"Confidentiality & Non-Disclosure\",\n",
        "    \"Liability & Indemnification\",\n",
        "    \"Intellectual Property\",\n",
        "    \"Payment and Freight Terms\",\n",
        "    \"Dispute Resolution\"\n",
        "]\n",
        "\n",
        "CONTRACT_TYPES = [\n",
        "    \"Distributor\",\n",
        "    \"Reseller\",\n",
        "    \"Service\",\n",
        "    \"Supply\",\n",
        "    \"Transportation\",\n",
        "]\n",
        "\n",
        "\n",
        "# This code defines a Pydantic model named Clause, representing a specific\n",
        "# clause in a contract.\n",
        "#\n",
        "# - `class Clause(BaseModel)`: Inherits from Pydantic's BaseModel for\n",
        "#   validation and parsing.\n",
        "# - `summary: str = Field(..., description=\"Summary of the clause using no\n",
        "#   pronouns\")`: Required string field for a clause summary, without pronouns.\n",
        "# - `clause_type: str = Field(..., description=\"Clause types\",\n",
        "#   enum=CLAUSE_TYPES)`: Required string field for the clause type, must be\n",
        "#   one of the allowed types in CLAUSE_TYPES.\n",
        "#\n",
        "# The `...` in `Field(...)` means the field is required when creating an\n",
        "# instance.\n",
        "\n",
        "class Clause(BaseModel):\n",
        "    \"\"\"Represents a clause in a contract.\"\"\"\n",
        "    summary: str = Field(..., description=\"Summary of the clause using no pronouns\")\n",
        "    clause_type: str = Field(..., description=\"Clause types\", enum=CLAUSE_TYPES)\n",
        "\n",
        "# In Pydantic, ... in Field(...) means the field is required (must be provided), even if its type is Optional.\n",
        "# This enforces that the field is present, but its value can be None.\n",
        "class Location(BaseModel):\n",
        "    \"\"\"Represents a physical location.\"\"\"\n",
        "    city: Optional[str] = Field(..., description=\"The city of the location. Use None if not provided\")\n",
        "    state: Optional[str] = Field(..., description=\"The state or region of the location. Use None if not provided\")\n",
        "    country: str = Field(..., description=\"The country of the location. Use the two-letter ISO standard.\")\n",
        "\n",
        "class Organization(BaseModel):\n",
        "    \"\"\"Represents an organization, including its name and location.\"\"\"\n",
        "    name: str = Field(..., description=\"The name of the organization.\")\n",
        "    location: Location = Field(..., description=\"The primary location of the organization.\")\n",
        "    role: str = Field(..., description=\"The role of the organization in the contract, e.g., 'Shipper', 'Carrier', 'Supplier', 'Buyer'.\")\n",
        "\n",
        "class Contract(BaseModel):\n",
        "    \"\"\"Represents the key details of the contract.\"\"\"\n",
        "    summary: str = Field(..., description=\"High-level summary of the contract with relevant facts and details. Do not use any pronouns.\")\n",
        "    contract_type: str = Field(..., description=\"The type of contract being entered into.\", enum=CONTRACT_TYPES)\n",
        "    parties: List[Organization] = Field(..., description=\"List of parties involved in the contract, with details of each party's role.\")\n",
        "    effective_date: str = Field(..., description=\"The date when the contract becomes effective in yyyy-MM-dd format.\")\n",
        "    duration: Optional[str] = Field(None, description=\"The duration of the agreement. Use ISO 8601 duration standard (e.g., P1Y for 1 year, P2M for 2 months).\")\n",
        "    end_date: Optional[str] = Field(None, description=\"The date when the contract expires in yyyy-MM-dd format.\")\n",
        "    governing_law: Optional[Location] = Field(None, description=\"The jurisdiction's laws governing the contract.\")\n",
        "    clauses: Optional[List[Clause]] = Field(None, description=f\"Relevant summaries of clause types. Allowed clause types are {CLAUSE_TYPES}\")"
      ]
    },
    {
      "cell_type": "markdown",
      "metadata": {
        "id": "vCXfUKcCCW7W"
      },
      "source": [
        "## 5. LLM Processing and Data Cleaning\n",
        "\n",
        "Now we'll define the functions to process our contracts.\n",
        "\n",
        "- **`process_contract`**: This function takes a single contract's text, sends it to the Gemini LLM, and asks for the output to be structured according to our `Contract` Pydantic model.\n",
        "- **`process_all_contracts`**: This function manages the concurrent execution for all 5 contracts to speed things up. It uses a semaphore to avoid hitting API rate limits (not needed for our implementation).\n",
        "- **Helper functions**: We also include helpers to validate dates and infer a contract's `end_date` if a `duration` is provided."
      ]
    },
    {
      "cell_type": "code",
      "execution_count": 9,
      "metadata": {
        "id": "RtNCLWWZCW7W"
      },
      "outputs": [],
      "source": [
        "# Although we have reduced the contracts to 5 for this notebook, the code is designed to handle a larger number of contracts.\n",
        "# asyncio is used here to allow multiple contracts to be processed concurrently,\n",
        "# making efficient use of time while waiting for LLM API responses (which are I/O-bound and slow).\n",
        "# The async with semaphore limits the number of concurrent LLM calls to avoid rate limits. We are using max_workers=5 for this notebook.\n",
        "# Starting a new one as soon as any finish, to avoid API rate limits.\n",
        "# This way, the code can process several contracts in parallel without blocking, speeding up the overall extraction pipeline.\n",
        "\n",
        "# Instantiate the Gemini LLM with structured output support for contract extraction\n",
        "llm = ChatGoogleGenerativeAI(model=\"gemini-2.0-flash\")\n",
        "\n",
        "def is_valid_date(date_string):\n",
        "    \"\"\"\n",
        "    Check if the input string is a valid date in YYYY-MM-DD format.\n",
        "\n",
        "    Returns True if valid, False otherwise.\n",
        "    \"\"\"\n",
        "    if not date_string:\n",
        "        return False\n",
        "    try:\n",
        "        datetime.strptime(date_string, '%Y-%m-%d')\n",
        "        return True\n",
        "    except ValueError:\n",
        "        return False\n",
        "\n",
        "def add_duration_to_date(date_str, duration_str):\n",
        "    \"\"\"\n",
        "    Add an ISO 8601 duration (e.g., 'P1Y', 'P2M') to a date string (YYYY-MM-DD).\n",
        "\n",
        "    Returns the resulting date as a string in YYYY-MM-DD format, or None if invalid.\n",
        "    \"\"\"\n",
        "    try:\n",
        "        date_obj = datetime.strptime(date_str, \"%Y-%m-%d\")  # Parse the base date\n",
        "        duration = isodate.parse_duration(duration_str)      # Parse the ISO 8601 duration\n",
        "        result_date = date_obj + duration                    # Add duration to date\n",
        "        return result_date.strftime(\"%Y-%m-%d\")\n",
        "    except (ValueError, isodate.ISO8601Error):\n",
        "        return None\n",
        "\n",
        "async def process_contract(contract_data, semaphore):\n",
        "    \"\"\"\n",
        "    Process a single contract's text using the LLM and the Contract Pydantic schema.\n",
        "\n",
        "    - Uses a semaphore to limit concurrency.\n",
        "    - Calls the LLM for structured extraction.\n",
        "    - Validates and cleans date fields.\n",
        "    - Infers end_date from duration if necessary.\n",
        "    - Returns a dictionary with structured contract data.\n",
        "    \"\"\"\n",
        "    async with semaphore:\n",
        "        try:\n",
        "            # Configure the LLM to return output matching the Contract schema\n",
        "            structured_llm = llm.with_structured_output(Contract)\n",
        "\n",
        "            # Invoke the LLM asynchronously with the contract text\n",
        "            result_obj = await structured_llm.ainvoke(contract_data[\"text\"])\n",
        "\n",
        "            # Convert the Pydantic model output to a dictionary\n",
        "            structured_data = json.loads(result_obj.model_dump_json())\n",
        "\n",
        "            # Attach the file identifier to the result\n",
        "            structured_data[\"file_id\"] = contract_data[\"file_id\"]\n",
        "\n",
        "            # Validate and clean the effective_date field\n",
        "            if not is_valid_date(structured_data.get(\"effective_date\")):\n",
        "                structured_data[\"effective_date\"] = None\n",
        "\n",
        "            # Validate and clean the end_date field\n",
        "            if not is_valid_date(structured_data.get(\"end_date\")):\n",
        "                structured_data[\"end_date\"] = None\n",
        "\n",
        "            # If end_date is missing but duration and effective_date are present, infer end_date\n",
        "            if (\n",
        "                not structured_data.get(\"end_date\")\n",
        "                and structured_data.get(\"effective_date\")\n",
        "                and structured_data.get(\"duration\")\n",
        "            ):\n",
        "                structured_data[\"end_date\"] = add_duration_to_date(\n",
        "                    structured_data[\"effective_date\"], structured_data[\"duration\"]\n",
        "                )\n",
        "\n",
        "            return structured_data\n",
        "        except Exception as e:\n",
        "            # Log and return error information for this contract\n",
        "            print(f\"Error processing {contract_data['file_id']}: {e}\")\n",
        "            return {\"file_id\": contract_data[\"file_id\"], \"error\": str(e)}\n",
        "\n",
        "async def process_all_contracts(contracts_list, max_workers=5):\n",
        "    \"\"\"\n",
        "    Process a list of contracts concurrently using asyncio.\n",
        "\n",
        "    - contracts_list: List of contract data dictionaries.\n",
        "    - max_workers: Maximum number of concurrent LLM calls (default: 5).\n",
        "    - Returns a list of structured contract data results.\n",
        "    \"\"\"\n",
        "    semaphore = asyncio.Semaphore(max_workers)  # Limit concurrent LLM calls\n",
        "    tasks = [process_contract(c, semaphore) for c in contracts_list]  # Create async tasks\n",
        "\n",
        "    results = []\n",
        "    # Asynchronously gather results as each contract is processed\n",
        "    for future in asyncio.as_completed(tasks):\n",
        "        result = await future\n",
        "        results.append(result)\n",
        "    return results"
      ]
    },
    {
      "cell_type": "markdown",
      "metadata": {
        "id": "b7GDq4TcCW7X"
      },
      "source": [
        "## 6. Run the Extraction Pipeline\n",
        "\n",
        "Let's execute the pipeline. This will process all 5 contracts and may take a few moments. You'll see a progress bar tracking the status."
      ]
    },
    {
      "cell_type": "code",
      "execution_count": 10,
      "metadata": {
        "id": "tpcQCpxQCW7X",
        "colab": {
          "base_uri": "https://localhost:8080/"
        },
        "outputId": "9060429f-73f3-4c1e-e79d-97cb1f252c75"
      },
      "outputs": [
        {
          "output_type": "stream",
          "name": "stdout",
          "text": [
            "\n",
            "Extraction complete.\n",
            "\n",
            "--- Sample Output ---\n",
            "{\n",
            "  \"summary\": \"Reseller promotes and solicits commitments to buy company products in the territory. Contract is renewable for 1 year extension by amendment to this agreement. Either Party may terminate this agreement for non-cause with a sixty (60) day written notice.\",\n",
            "  \"contract_type\": \"Reseller\",\n",
            "  \"parties\": [\n",
            "    {\n",
            "      \"name\": \"Aperture Global Logistics\",\n",
            "      \"location\": {\n",
            "        \"city\": \"Anytown\",\n",
            "        \"state\": \"Delaware\",\n",
            "        \"country\": \"US\"\n",
            "      },\n",
            "      \"role\": \"Reseller\"\n",
            "    },\n",
            "    {\n",
            "      \"name\": \"LogiSync Solutions Inc.\",\n",
            "      \"location\": {\n",
            "        \"city\": \"Silicon Valley\",\n",
            "        \"state\": \"CA\",\n",
            "        \"country\": \"US\"\n",
            "      },\n",
            "      \"role\": \"Company\"\n",
            "    }\n",
            "  ],\n",
            "  \"effective_date\": \"2017-04-07\",\n",
            "  \"duration\": \"P1Y\",\n",
            "  \"end_date\": \"2018-04-07\",\n",
            "  \"governing_law\": {\n",
            "    \"city\": null,\n",
            "    \"state\": \"Virginia\",\n",
            "    \"country\": \"US\"\n",
            "  },\n",
            "  \"clauses\": [\n",
            "    {\n",
            "      \"summary\": \"Company shall indemnify, defend and hold Reseller harmless from and against any claim that the Company Products infringe any U.S. patent or copyright or incorporate any misappropriated trade secrets. Additionally, Reseller shall indemnify, defend and hold Company harmless from and against any claim arising out of Reseller's Activities.\",\n",
            "      \"clause_type\": \"Liability & Indemnification\"\n",
            "    },\n",
            "    {\n",
            "      \"summary\": \"Each party acknowledges that, in the course of performing its duties under this Agreement, it may obtain from the other party, certain business, technical or financial information, all of which is confidential and proprietary\",\n",
            "      \"clause_type\": \"Confidentiality & Non-Disclosure\"\n",
            "    }\n",
            "  ],\n",
            "  \"file_id\": \"Contract_05_Reseller_AGL_LogiSync\"\n",
            "}\n"
          ]
        }
      ],
      "source": [
        "if 'contracts' in locals() and contracts:\n",
        "    # Run the asynchronous processing function\n",
        "    extracted_results = await process_all_contracts(contracts)\n",
        "    print(\"\\nExtraction complete.\")\n",
        "    # Display the first result as a sample\n",
        "    print(\"\\n--- Sample Output ---\")\n",
        "    print(json.dumps(extracted_results[0], indent=2))\n",
        "else:\n",
        "    print(\"Contract data not loaded. Please ensure the 'data' folder and files are set up correctly.\")"
      ]
    },
    {
      "cell_type": "markdown",
      "metadata": {
        "id": "FhWsy303CW7X"
      },
      "source": [
        "## 7. Save the Structured Data\n",
        "\n",
        "Finally, we'll save our list of structured contract data into a single JSON file. This file will be the input for Module 2, where we'll build our knowledge graph."
      ]
    },
    {
      "cell_type": "code",
      "execution_count": 11,
      "metadata": {
        "id": "j9w-O84XCW7X",
        "colab": {
          "base_uri": "https://localhost:8080/"
        },
        "outputId": "4bcb5aec-42a6-4a37-bfcb-f457a45d613f"
      },
      "outputs": [
        {
          "output_type": "stream",
          "name": "stdout",
          "text": [
            "Successfully saved structured data to contract_data.json\n"
          ]
        }
      ],
      "source": [
        "if 'extracted_results' in locals() and extracted_results:\n",
        "    output_filename = \"contract_data.json\"\n",
        "    with open(output_filename, \"w\") as json_file:\n",
        "        json.dump(extracted_results, json_file, indent=4)\n",
        "    print(f\"Successfully saved structured data to {output_filename}\")\n",
        "else:\n",
        "    print(\"No extracted data to save.\")"
      ]
    },
    {
      "cell_type": "markdown",
      "metadata": {
        "id": "7pXjgB9ECW7X"
      },
      "source": [
        "### Congratulations!\n",
        "\n",
        "You have successfully completed Module 1. We have transformed raw legal text into a clean, structured `contract_data.json` file. We are now ready to move on to Module 2, where we will use this file to construct our Neo4j Knowledge Graph."
      ]
    },
    {
      "cell_type": "markdown",
      "metadata": {
        "id": "ynJphWJCAQhH"
      },
      "source": [
        "## Appendix\n",
        "\n",
        "\n",
        "### A Note on Our Schema for Contract Types and Contract Clauses\n",
        "\n",
        "For this cohort, we are using a **predefined, fixed list** of `CONTRACT_TYPES` and `CLAUSE_TYPES` in our Pydantic schema. This is an intentional choice designed to help us focus on mastering the core end-to-end GraphRAG pipeline without the added complexity of dynamic schema management.\n",
        "\n",
        "However, in a real-world production scenario with hundreds or thousands of varied contracts, this fixed approach would be too rigid. We would inevitably encounter new or uniquely phrased clauses that your system would miss.\n",
        "\n",
        "A production-grade solution would use a more sophisticated, iterative approach:\n",
        "\n",
        "1.  **Open Extraction:** Instead of providing a fixed list, we would prompt the LLM to identify and categorize *all* contract and clause types it finds in a document.\n",
        "2.  **Dynamic Taxonomy Management:** The system would flag any newly discovered types that are not in the existing schema.\n",
        "3.  **Human-in-the-Loop Review:** A legal expert or data steward would then review these new suggestions to validate, merge, or add them to the official knowledge graph schema.\n",
        "\n",
        "This \"human-in-the-loop\" process ensures the knowledge graph is robust, evolves over time, and accurately reflects the full diversity of the legal documents, making it a truly reliable enterprise asset."
      ]
    },
    {
      "cell_type": "markdown",
      "metadata": {
        "id": "kvy-_OT5AQhH"
      },
      "source": [
        "### FAQ\n",
        "\n",
        "**Question**: Where are we invoking the LLM and which prompt are we using to get structured output?\n",
        "\n",
        "**Answer**: We invoke the LLM in `process_contract` with `await structured_llm.ainvoke(contract_data[\"text\"])`. The prompt is simply the contract's raw text (`contract_data[\"text\"]`). Structured output is enforced by `llm.with_structured_output(Contract)`, which instructs the LLM to return data matching the `Contract` Pydantic schema—no explicit prompt template is shown; the schema guides the output format.\n",
        "\n",
        "---\n",
        "\n",
        "**Question**: What is the role of the Pydantic schema in this workflow?\n",
        "\n",
        "**Answer**: The Pydantic schema (the `Contract` class) defines the structure and types of the data we want to extract from each contract. When we use `llm.with_structured_output(Contract)`, the LLM is guided to produce output that matches this schema, ensuring consistency and type safety in the extracted data.\n",
        "\n",
        "---\n",
        "\n",
        "**Question**: Why don't we need to write a custom prompt template for the LLM?\n",
        "\n",
        "**Answer**: Because we use `with_structured_output` with a Pydantic schema, the LLM is automatically instructed to return data in the required structured format. This approach leverages the schema as a \"contract\" for the output, so a custom prompt template is not necessary for basic extraction.\n",
        "\n",
        "---\n",
        "\n",
        "**Question**: What if LLM is not extracting all the clause types mentioned in the original contract document?\n",
        "\n",
        "**Answer**: If the LLM is not extracting all clause types, you can absolutely write a custom prompt to improve extraction. This is possible and often effective. A custom prompt allows you to give the LLM more explicit instructions, such as asking it to carefully identify every clause, use a specific set of clause types, or even output in a particular format. You can also provide examples (few-shot prompting) to show the LLM exactly how you want the extraction to work. For instance, you might instruct: \"Extract all clauses from the contract below. For each clause, assign it to one of these clause types: [list of types]. If a clause does not fit, use 'Other'. Output the results as a JSON list with 'summary' and 'clause_type' for each clause.\" This approach can help the LLM be more thorough and accurate, especially if you notice consistent omissions with schema-only guidance.\n",
        "\n",
        "Here is an example code snippet for using a custom prompt with an LLM:\n",
        "\n",
        "1. Configure the LLM to return output matching the Contract schema\n",
        "\n",
        "    structured_llm = llm.with_structured_output(Contract)\n",
        "\n",
        "2. Create your custom prompt\n",
        "\n",
        "    custom_prompt = f'''You are a legal contract analyst. Carefully read the contract text below and extract every clause. For each clause, provide a summary and assign it to one of the following EXACT clause types:\n",
        "\n",
        "    {chr(10).join([f\"{i+1}. {clause_type}\" for i, clause_type in enumerate(CLAUSE_TYPES)])}\n",
        "\n",
        "    For each clause, provide a summary and the exact clause type from the list above. If none fit, use \"Other\". Output your answer as a JSON list, where each item has \"summary\" and \"clause_type\".\n",
        "\n",
        "    Contract Text:\n",
        "    {contract_text}'''\n",
        "\n",
        "3. Invoke the LLM asynchronously with your custom prompt\n",
        "\n",
        "    result_obj = await structured_llm.ainvoke(custom_prompt.format(contract_text=contract_data[\"text\"]))\n",
        "\n",
        "---\n",
        "\n",
        "**Question**: What happens if the contract text is missing some fields required by the schema?\n",
        "\n",
        "**Answer**: If the contract text does not contain information for a required field, the LLM may return `null` (or `None` in Python) for that field, or it may attempt to infer or leave it blank. It's important to review the extracted data for completeness and accuracy, especially for required fields.\n",
        "\n",
        "---\n",
        "\n",
        "**Question**: Can we use this approach for other document types or schemas?\n",
        "\n",
        "**Answer**: Yes! As long as you define an appropriate Pydantic schema for your target data structure, you can use `llm.with_structured_output(YourSchema)` to extract structured data from any unstructured text, not just contracts.\n",
        "\n",
        "---\n",
        "\n",
        "**Question**: How does the LLM know what the allowed contract types or clause types are?\n",
        "\n",
        "**Answer**: The allowed values for fields like `contract_type` and `clause_type` are defined as Enums in the Pydantic schema. When the LLM is guided by the schema, it will try to select values from these predefined lists, helping to standardize the extracted data."
      ]
    },
    {
      "cell_type": "markdown",
      "metadata": {
        "id": "91b90acf"
      },
      "source": [
        "While there isn't a direct way to get the *exact* Google Drive path of the notebook programmatically within the Colab runtime, you can get the current working directory which serves as a starting point for navigating your mounted Drive."
      ]
    }
  ],
  "metadata": {
    "colab": {
      "provenance": []
    },
    "kernelspec": {
      "display_name": "venv",
      "language": "python",
      "name": "python3"
    },
    "language_info": {
      "codemirror_mode": {
        "name": "ipython",
        "version": 3
      },
      "file_extension": ".py",
      "mimetype": "text/x-python",
      "name": "python",
      "nbconvert_exporter": "python",
      "pygments_lexer": "ipython3",
      "version": "3.13.5"
    }
  },
  "nbformat": 4,
  "nbformat_minor": 0
}