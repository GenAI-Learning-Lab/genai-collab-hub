{
  "cells": [
    {
      "cell_type": "markdown",
      "metadata": {
        "id": "VK7qQila2kD_"
      },
      "source": [
        "# Module 3: Building the Graph Retrieval Tool\n",
        "\n",
        "Welcome to Module 3 and the start of our **Retrieval Pipeline**! In the first two modules, we successfully built a complete Ingestion Pipeline, transforming raw contract text into a fully populated Neo4j knowledge graph.\n",
        "\n",
        "Now, it's time to build the bridge that will allow our AI agent to access this powerful new data source.\n",
        "\n",
        "**Our Mission:**\n",
        "1. Define a clear input schema for our graph queries.\n",
        "2. Build a robust Python function that dynamically constructs and executes hybrid Cypher queries against our graph.\n",
        "3. Wrap this function into an official LangChain \"Tool\".\n",
        "4. Rigorously test the tool in isolation to ensure it's reliable and bug-free for Module 4."
      ]
    },
    {
      "cell_type": "markdown",
      "source": [
        "### The \"Tool\": Our Agent's Bridge to the Knowledge Graph\n",
        "Before we write any code, let's clarify what we're building. In our final system (Module 4), an AI Agent will take a user's question, but it won't query the database directly. Instead, it will use a specialized Tool that we create.\n",
        "\n",
        "A key point to understand is how the tool gets its instructions.\n",
        "\n",
        "In This Module (Testing): We will play the role of the \"agent\" and manually pass structured parameters to our tool (e.g., a dictionary like {'contract_type': 'Supply'}). This allows us to test the tool's logic directly and ensure it works perfectly.\n",
        "\n",
        "In Module 4 (Final System): The LLM Agent will take a natural language question (e.g., \"Find me all the supply contracts\") and autonomously determine and generate these structured parameters before calling the tool.\n",
        "\n",
        "Our entire focus in this module is to build and test this \"Tool\" component in isolation, making sure it's robust and ready for the agent to use."
      ],
      "metadata": {
        "id": "a-awQc7mknPa"
      }
    },
    {
      "cell_type": "markdown",
      "metadata": {
        "id": "hi7uhkvu2kEA"
      },
      "source": [
        "## 1. Setup and Dependencies\n",
        "\n",
        "We'll start by installing the necessary libraries. The key additions here are `langchain` and `langchain_core` for creating our tool."
      ]
    },
    {
      "cell_type": "code",
      "execution_count": 12,
      "metadata": {
        "id": "LqbAb6bD2kEA"
      },
      "outputs": [],
      "source": [
        "%pip install -qU langchain langchain-core langchain-google-genai langchain-neo4j python-dotenv"
      ]
    },
    {
      "cell_type": "code",
      "execution_count": 13,
      "metadata": {
        "id": "btjdf8qu2kEA"
      },
      "outputs": [],
      "source": [
        "import os\n",
        "import json\n",
        "from dotenv import load_dotenv\n",
        "from typing import List, Optional, Any\n",
        "\n",
        "from langchain_core.tools import tool\n",
        "from pydantic import BaseModel, Field\n",
        "from langchain_neo4j import Neo4jGraph\n",
        "from langchain_google_genai import GoogleGenerativeAIEmbeddings\n",
        "\n",
        "\n",
        "from google.colab import drive\n",
        "import json\n",
        "from google.colab import userdata"
      ]
    },
    {
      "cell_type": "markdown",
      "metadata": {
        "id": "XPR-nvPC2kEB"
      },
      "source": [
        "## 2. Configure Environment Variables\n",
        "\n",
        "As in Module 2, we need to connect to our Google and Neo4j services. Please provide your credentials below."
      ]
    },
    {
      "cell_type": "code",
      "execution_count": 14,
      "metadata": {
        "colab": {
          "base_uri": "https://localhost:8080/"
        },
        "id": "piZxTyD72kEB",
        "outputId": "b59dcd31-ac82-4039-9fed-59c07ecdff7e"
      },
      "outputs": [
        {
          "output_type": "stream",
          "name": "stdout",
          "text": [
            "✅ GOOGLE_API_KEY: Set successfully\n",
            "✅ NEO4J_URI: Set successfully\n",
            "✅ NEO4J_USERNAME: Set successfully\n",
            "✅ NEO4J_PASSWORD: Set successfully\n",
            "✅ NEO4J_DATABASE: Set successfully\n",
            "\n",
            "🎉 Successfully loaded all 5 required environment variables!\n",
            "✅ Google API key format looks valid\n"
          ]
        }
      ],
      "source": [
        "# Define required environment variables\n",
        "required_vars = [\"GOOGLE_API_KEY\", \"NEO4J_URI\", \"NEO4J_USERNAME\", \"NEO4J_PASSWORD\", \"NEO4J_DATABASE\"]\n",
        "\n",
        "# Set environment variables with validation\n",
        "missing_vars = []\n",
        "for var in required_vars:\n",
        "    value = userdata.get(var)\n",
        "    if value:\n",
        "        os.environ[var] = value\n",
        "        print(f\"✅ {var}: Set successfully\")\n",
        "    else:\n",
        "        missing_vars.append(var)\n",
        "        print(f\"❌ {var}: Missing or empty\")\n",
        "\n",
        "# Check if all required variables are set\n",
        "if missing_vars:\n",
        "    print(f\"\\n🚨 Error: Missing required environment variables: {', '.join(missing_vars)}\")\n",
        "    print(\"Please ensure all secrets are properly configured in Colab.\")\n",
        "    raise ValueError(f\"Missing environment variables: {missing_vars}\")\n",
        "else:\n",
        "    print(f\"\\n🎉 Successfully loaded all {len(required_vars)} required environment variables!\")\n",
        "\n",
        "# Optional: Verify API key format (basic validation)\n",
        "if os.environ.get(\"GOOGLE_API_KEY\"):\n",
        "    api_key = os.environ[\"GOOGLE_API_KEY\"]\n",
        "    if len(api_key) < 20:  # Basic length check\n",
        "        print(\"⚠️  Warning: Google API key seems unusually short\")\n",
        "    else:\n",
        "        print(\"✅ Google API key format looks valid\")"
      ]
    },
    {
      "cell_type": "markdown",
      "metadata": {
        "id": "ytRADr_Z2kEB"
      },
      "source": [
        "## 3. Connect to Neo4j and Initialize Embeddings Model\n",
        "\n",
        "Let's establish our connection to the Neo4j database and initialize the Google Generative AI Embeddings model, which we'll need for the vector search part of our tool."
      ]
    },
    {
      "cell_type": "code",
      "execution_count": 15,
      "metadata": {
        "colab": {
          "base_uri": "https://localhost:8080/"
        },
        "id": "Qfeuk3SM2kEB",
        "outputId": "5734fb89-db75-47a9-eae7-912b1ac2aec4"
      },
      "outputs": [
        {
          "output_type": "stream",
          "name": "stdout",
          "text": [
            "Successfully connected to Neo4j.\n",
            "Successfully initialized embeddings model.\n"
          ]
        }
      ],
      "source": [
        "try:\n",
        "    graph = Neo4jGraph(\n",
        "            url=os.environ[\"NEO4J_URI\"],\n",
        "            username=os.environ[\"NEO4J_USERNAME\"],\n",
        "            password=os.environ[\"NEO4J_PASSWORD\"],\n",
        "            database=os.environ[\"NEO4J_DATABASE\"]\n",
        "        )\n",
        "    graph.query(\"RETURN 1\")\n",
        "    print(\"Successfully connected to Neo4j.\")\n",
        "except Exception as e:\n",
        "    print(f\"Failed to connect to Neo4j: {e}\")\n",
        "\n",
        "try:\n",
        "    embedding_model = GoogleGenerativeAIEmbeddings(model=\"models/text-embedding-004\")\n",
        "    print(\"Successfully initialized embeddings model.\")\n",
        "except Exception as e:\n",
        "    print(f\"Failed to initialize embeddings model: {e}\")"
      ]
    },
    {
      "cell_type": "markdown",
      "metadata": {
        "id": "6B7_Rnoq2kEB"
      },
      "source": [
        "## 4. Define the Tool's Input Schema\n",
        "\n",
        "This is the 'instruction manual' for our agent. By defining a Pydantic `BaseModel`, we tell the LLM exactly what parameters it can use to search for contracts. The descriptions for each field are crucial, as they guide the LLM in mapping a user's natural language query to the correct parameters."
      ]
    },
    {
      "cell_type": "code",
      "execution_count": 16,
      "metadata": {
        "id": "gnu8jUa82kEB"
      },
      "outputs": [],
      "source": [
        "class ContractInput(BaseModel):\n",
        "    \"Input schema for the contract search tool.\"\n",
        "\n",
        "    contract_type: Optional[str] = Field(None, description=\"The type of contract, e.g., 'Service', 'Supply', 'Reseller'.\")\n",
        "    parties: Optional[List[str]] = Field(None, description=\"List of parties involved in the contract, e.g., ['Aperture Global Logistics', 'Fonterra'].\")\n",
        "    summary_search: Optional[str] = Field(None, description=\"A semantic search query to run against the contract's summary.\")\n",
        "    min_effective_date: Optional[str] = Field(None, description=\"Earliest contract effective date in YYYY-MM-DD format.\")"
      ]
    },
    {
      "cell_type": "markdown",
      "metadata": {
        "id": "gqfQu6Z32kEB"
      },
      "source": [
        "## 5. Build the Core Graph Query Function\n",
        "\n",
        "This function is the heart of our tool. It takes the parameters defined in our schema and dynamically builds a single, powerful Cypher query. It intelligently combines graph-based filtering (for things like `parties` and `contract_type`) with vector similarity search (for `summary_search`)."
      ]
    },
    {
      "cell_type": "code",
      "execution_count": 53,
      "metadata": {
        "id": "RI9JINFn2kEB"
      },
      "outputs": [],
      "source": [
        "def get_contracts(\n",
        "    contract_type: Optional[str] = None,\n",
        "    parties: Optional[List[str]] = None,\n",
        "    summary_search: Optional[str] = None,\n",
        "    min_effective_date: Optional[str] = None\n",
        "):\n",
        "    \"\"\"\n",
        "    Searches for contracts in the Neo4j database based on provided criteria.\n",
        "    Dynamically builds a Cypher query to filter by metadata and perform vector search.\n",
        "    \"\"\"\n",
        "    cypher_statement = \"MATCH (c:Contract) \"\n",
        "    params = {}\n",
        "    filters = []\n",
        "\n",
        "    # Metadata filters\n",
        "    if contract_type:\n",
        "        filters.append(\"c.contract_type = $contract_type\")\n",
        "        params[\"contract_type\"] = contract_type\n",
        "\n",
        "    if min_effective_date:\n",
        "        filters.append(\"c.effective_date >= date($min_effective_date)\")\n",
        "        params[\"min_effective_date\"] = min_effective_date\n",
        "\n",
        "    if parties:\n",
        "        for i, party in enumerate(parties):\n",
        "            party_param = f\"party_{i}\"\n",
        "            filters.append(f\"EXISTS {{ MATCH (c)<-[:PARTY_TO]-(p:Party) WHERE toLower(p.name) CONTAINS ${party_param} }}\")\n",
        "            params[party_param] = party.lower()\n",
        "\n",
        "    if filters:\n",
        "        cypher_statement += \"WHERE \" + \" AND \".join(filters) + \" \"\n",
        "\n",
        "    # Vector similarity search (post-filtering)\n",
        "    if summary_search:\n",
        "        embedding = embedding_model.embed_query(summary_search)\n",
        "        params[\"embedding\"] = embedding\n",
        "        cypher_statement += (\n",
        "            \"WITH c, vector.similarity.cosine(c.embedding, $embedding) AS score \"\n",
        "            \"WHERE score > 0.7 \" # Similarity threshold\n",
        "            \"ORDER BY score DESC \"\n",
        "        )\n",
        "    else:\n",
        "         cypher_statement += \"WITH c ORDER BY c.effective_date DESC \" # Default sort\n",
        "\n",
        "    # Final RETURN clause to format the output\n",
        "    cypher_statement += \"\"\"WITH collect(c) AS nodes\n",
        "    RETURN {\n",
        "        total_count: size(nodes),\n",
        "        example_contracts: [\n",
        "            el in nodes[..5] | {\n",
        "                summary: el.summary,\n",
        "                contract_type: el.contract_type,\n",
        "                effective_date: toString(el.effective_date),\n",
        "                parties: [(el)<-[:PARTY_TO]-(p:Party) | p.name]\n",
        "            }\n",
        "        ]\n",
        "    } AS output\n",
        "    \"\"\"\n",
        "\n",
        "    # Execute the query\n",
        "    print(\"cypher_statement ->\")\n",
        "    print(cypher_statement)\n",
        "    print(\"\\n\")\n",
        "    print(\"params ->\")\n",
        "    print(params)\n",
        "    print(\"\\n\")\n",
        "    result = graph.query(cypher_statement, params)\n",
        "    print(\"******************\\n\")\n",
        "    print(\"Output from Contract Search Tool ->\")\n",
        "    print(\"\\n******************\\n\")\n",
        "    return result[0]['output']"
      ]
    },
    {
      "cell_type": "markdown",
      "metadata": {
        "id": "yTZSXHos2kEB"
      },
      "source": [
        "## 6. Create the LangChain Tool\n",
        "\n",
        "Now we wrap our `get_contracts` function into an official LangChain tool. We use the `@tool` decorator, which is the latest and simplest way to create a tool in LangChain. By default, the function’s docstring becomes the tool’s description that helps the model understand when to use it.\n",
        "\n",
        "We pass our `ContractInput` Pydantic model to the `args_schema` to ensure the LLM knows what arguments are available.\n",
        "\n",
        "For more details on Langchain Tool , refer the official Langchain documentation here: https://docs.langchain.com/oss/python/langchain/tools"
      ]
    },
    {
      "cell_type": "code",
      "execution_count": 54,
      "metadata": {
        "colab": {
          "base_uri": "https://localhost:8080/"
        },
        "id": "pmoewo3i2kEC",
        "outputId": "7af32444-2b65-465c-9b02-9f3f8803d8e0"
      },
      "outputs": [
        {
          "output_type": "stream",
          "name": "stdout",
          "text": [
            "Tool Name: contract_search_tool\n",
            "Tool Description: Searches for contracts in the AGL contract database based on various criteria.\n",
            "Tool Arguments Schema: {'contract_type': {'anyOf': [{'type': 'string'}, {'type': 'null'}], 'default': None, 'description': \"The type of contract, e.g., 'Service', 'Supply', 'Reseller'.\", 'title': 'Contract Type'}, 'parties': {'anyOf': [{'items': {'type': 'string'}, 'type': 'array'}, {'type': 'null'}], 'default': None, 'description': \"List of parties involved in the contract, e.g., ['Aperture Global Logistics', 'Fonterra'].\", 'title': 'Parties'}, 'summary_search': {'anyOf': [{'type': 'string'}, {'type': 'null'}], 'default': None, 'description': \"A semantic search query to run against the contract's summary.\", 'title': 'Summary Search'}, 'min_effective_date': {'anyOf': [{'type': 'string'}, {'type': 'null'}], 'default': None, 'description': 'Earliest contract effective date in YYYY-MM-DD format.', 'title': 'Min Effective Date'}}\n"
          ]
        }
      ],
      "source": [
        "@tool(args_schema=ContractInput)\n",
        "def contract_search_tool(\n",
        "    contract_type: Optional[str] = None,\n",
        "    parties: Optional[List[str]] = None,\n",
        "    summary_search: Optional[str] = None,\n",
        "    min_effective_date: Optional[str] = None\n",
        ") -> dict:\n",
        "    \"\"\"Searches for contracts in the AGL contract database based on various criteria.\"\"\"\n",
        "    return get_contracts(contract_type, parties, summary_search, min_effective_date)\n",
        "\n",
        "# Let's inspect our tool\n",
        "print(f\"Tool Name: {contract_search_tool.name}\")\n",
        "print(f\"Tool Description: {contract_search_tool.description}\")\n",
        "print(f\"Tool Arguments Schema: {contract_search_tool.args}\")"
      ]
    },
    {
      "cell_type": "markdown",
      "metadata": {
        "id": "ckIsOO9J2kEC"
      },
      "source": [
        "## 7. Testing the Tool in Isolation\n",
        "\n",
        "#### Why Test the Tool Manually?\n",
        "\n",
        "This is the most important step of Module 3.Before we let an LLM agent use our tool in Module 4, we need to be 100% confident that the tool itself is working correctly. By calling it directly with Python, we are **unit testing** our data retrieval logic. This ensures that if any issues arise in the next module, we'll know the problem is with the agent's reasoning, not with our database query code."
      ]
    },
    {
      "cell_type": "code",
      "source": [
        "# Function to display test results.\n",
        "\n",
        "def display_test_results(results):\n",
        "    \"\"\"A helper function to print the tool's output in a clean format.\"\"\"\n",
        "    print(f\"Total Contracts Found: {results.get('total_count', 'N/A')}\")\n",
        "    if results.get('example_contracts'):\n",
        "        print(\"Example Contracts:\")\n",
        "        for i, contract in enumerate(results['example_contracts']):\n",
        "            print(f\"  {i+1}. Type: {contract.get('contract_type', 'N/A')}\")\n",
        "            print(f\"     Parties: {', '.join(contract.get('parties', []))}\")\n",
        "            print(f\"     Effective Date: {contract.get('effective_date', 'N/A')}\")\n",
        "            print(\"-\" * 20)\n",
        "    else:\n",
        "        print(\"No example contracts returned.\")"
      ],
      "metadata": {
        "id": "EDUJUokZhhRs"
      },
      "execution_count": 55,
      "outputs": []
    },
    {
      "cell_type": "markdown",
      "source": [
        "#### Test 1: Simple Metadata Filter\n",
        "\n",
        "Our first test is the simplest. We'll ask the tool to find all contracts where the `contract_type` is \"Service\".\n",
        "\n",
        "**What to look for:**\n",
        "- The generated **Cypher query** should have a `WHERE c.contract_type = $contract_type` clause.\n",
        "- The **parameters** should show `{'contract_type': 'Service'}`.\n",
        "- The **output** should return a `total_count` of 1, showing the Innovate Solutions agreement."
      ],
      "metadata": {
        "id": "e142Rjcri28U"
      }
    },
    {
      "cell_type": "code",
      "execution_count": 46,
      "metadata": {
        "colab": {
          "base_uri": "https://localhost:8080/"
        },
        "id": "xEpz5jxs2kEC",
        "outputId": "630389b1-6f1f-4781-da64-30dadc726c50"
      },
      "outputs": [
        {
          "output_type": "stream",
          "name": "stdout",
          "text": [
            "--- 🧪 Test 1: Simple Metadata Filter --- \n",
            "Finding all 'Service' agreements...\\n\n",
            "cypher_statement ->\n",
            "MATCH (c:Contract) WHERE c.contract_type = $contract_type WITH c ORDER BY c.effective_date DESC WITH collect(c) AS nodes\n",
            "    RETURN {\n",
            "        total_count: size(nodes),\n",
            "        example_contracts: [\n",
            "            el in nodes[..5] | {\n",
            "                summary: el.summary,\n",
            "                contract_type: el.contract_type,\n",
            "                effective_date: toString(el.effective_date),\n",
            "                parties: [(el)<-[:PARTY_TO]-(p:Party) | p.name]\n",
            "            }\n",
            "        ]\n",
            "    } AS output\n",
            "    \n",
            "\n",
            "\n",
            "params ->\n",
            "{'contract_type': 'Service'}\n",
            "\n",
            "\n",
            "******************\n",
            "\n",
            "Output from Contract Search Tool ->\n",
            "\n",
            "******************\n",
            "\n",
            "\n",
            "--- Formatted Output ---\n",
            "Total Contracts Found: 1\n",
            "Example Contracts:\n",
            "  1. Type: Service\n",
            "     Parties: Aperture Global Logistics, Innovate Solutions Inc.\n",
            "     Effective Date: 2019-11-01\n",
            "--------------------\n"
          ]
        }
      ],
      "source": [
        "print(\"--- 🧪 Test 1: Simple Metadata Filter --- \")\n",
        "print(\"Finding all 'Service' agreements...\\\\n\")\n",
        "\n",
        "# The tool's internal print statements for Cypher/params will still run\n",
        "test_1_results = contract_search_tool.invoke({\"contract_type\": \"Service\"})\n",
        "\n",
        "print(\"\\n--- Formatted Output ---\")\n",
        "display_test_results(test_1_results)"
      ]
    },
    {
      "cell_type": "markdown",
      "source": [
        "#### Test 2: Relationship-Based Filter\n",
        "\n",
        "Next, we'll test the tool's ability to traverse relationships in the graph. We will ask for all contracts involving the party \"Fonterra\". This requires the query to find a `Party` node and then follow the `:PARTY_TO` relationship to the `Contract` node.\n",
        "\n",
        "**What to look for:**\n",
        "- The **Cypher query** should use an `EXISTS { ... }` clause to check for a relationship with a `Party` node.\n",
        "- The **parameters** should contain `{'party_0': 'fonterra'}`.\n",
        "- The **output** should return a `total_count` of 1 and show the Master Supply Agreement with Fonterra."
      ],
      "metadata": {
        "id": "fPBxhWBSjfgf"
      }
    },
    {
      "cell_type": "code",
      "execution_count": 47,
      "metadata": {
        "colab": {
          "base_uri": "https://localhost:8080/"
        },
        "id": "E4WLu_aA2kEC",
        "outputId": "3a281cf4-f5c1-4e9f-d89e-e220cb7144d7"
      },
      "outputs": [
        {
          "output_type": "stream",
          "name": "stdout",
          "text": [
            "\n",
            "--- 🧪 Test 2: Relationship-Based Filter --- \n",
            "Finding all contracts involving 'Fonterra'...\n",
            "\n",
            "cypher_statement ->\n",
            "MATCH (c:Contract) WHERE EXISTS { MATCH (c)<-[:PARTY_TO]-(p:Party) WHERE toLower(p.name) CONTAINS $party_0 } WITH c ORDER BY c.effective_date DESC WITH collect(c) AS nodes\n",
            "    RETURN {\n",
            "        total_count: size(nodes),\n",
            "        example_contracts: [\n",
            "            el in nodes[..5] | {\n",
            "                summary: el.summary,\n",
            "                contract_type: el.contract_type,\n",
            "                effective_date: toString(el.effective_date),\n",
            "                parties: [(el)<-[:PARTY_TO]-(p:Party) | p.name]\n",
            "            }\n",
            "        ]\n",
            "    } AS output\n",
            "    \n",
            "\n",
            "\n",
            "params ->\n",
            "{'party_0': 'fonterra'}\n",
            "\n",
            "\n",
            "******************\n",
            "\n",
            "Output from Contract Search Tool ->\n",
            "\n",
            "******************\n",
            "\n",
            "\n",
            "--- Formatted Output ---\n",
            "Total Contracts Found: 1\n",
            "Example Contracts:\n",
            "  1. Type: Supply\n",
            "     Parties: Aperture Global Logistics, Fonterra (USA) Inc.\n",
            "     Effective Date: 2019-10-31\n",
            "--------------------\n"
          ]
        }
      ],
      "source": [
        "print(\"\\n--- 🧪 Test 2: Relationship-Based Filter --- \")\n",
        "print(\"Finding all contracts involving 'Fonterra'...\\n\")\n",
        "\n",
        "test_2_results = contract_search_tool.invoke({\"parties\": [\"Fonterra\"]})\n",
        "\n",
        "print(\"\\n--- Formatted Output ---\")\n",
        "display_test_results(test_2_results)"
      ]
    },
    {
      "cell_type": "markdown",
      "source": [
        "#### Test 3: Date Filter\n",
        "\n",
        "This test validates our ability to filter based on date properties. We'll ask for all contracts that became effective on or after January 1, 2018.\n",
        "\n",
        "**What to look for:**\n",
        "- The **Cypher query** should contain a `WHERE c.effective_date >= date($min_effective_date)` clause.\n",
        "- The **parameters** should show `{'min_effective_date': '2018-01-01'}`.\n",
        "- The **output** should return a `total_count` of 2, listing the agreements with Innovate Solutions and Fonterra, as both were signed after this date."
      ],
      "metadata": {
        "id": "toQLNNI1jkpP"
      }
    },
    {
      "cell_type": "code",
      "execution_count": 48,
      "metadata": {
        "colab": {
          "base_uri": "https://localhost:8080/"
        },
        "id": "BBtAK3Aq2kEC",
        "outputId": "b4719f7e-669d-4738-8fe9-045a99244075"
      },
      "outputs": [
        {
          "output_type": "stream",
          "name": "stdout",
          "text": [
            "\n",
            "--- 🧪 Test 3: Date Filter --- \n",
            "Finding all contracts effective on or after Jan 1, 2018...\n",
            "\n",
            "cypher_statement ->\n",
            "MATCH (c:Contract) WHERE c.effective_date >= date($min_effective_date) WITH c ORDER BY c.effective_date DESC WITH collect(c) AS nodes\n",
            "    RETURN {\n",
            "        total_count: size(nodes),\n",
            "        example_contracts: [\n",
            "            el in nodes[..5] | {\n",
            "                summary: el.summary,\n",
            "                contract_type: el.contract_type,\n",
            "                effective_date: toString(el.effective_date),\n",
            "                parties: [(el)<-[:PARTY_TO]-(p:Party) | p.name]\n",
            "            }\n",
            "        ]\n",
            "    } AS output\n",
            "    \n",
            "\n",
            "\n",
            "params ->\n",
            "{'min_effective_date': '2018-01-01'}\n",
            "\n",
            "\n",
            "******************\n",
            "\n",
            "Output from Contract Search Tool ->\n",
            "\n",
            "******************\n",
            "\n",
            "\n",
            "--- Formatted Output ---\n",
            "Total Contracts Found: 2\n",
            "Example Contracts:\n",
            "  1. Type: Service\n",
            "     Parties: Aperture Global Logistics, Innovate Solutions Inc.\n",
            "     Effective Date: 2019-11-01\n",
            "--------------------\n",
            "  2. Type: Supply\n",
            "     Parties: Aperture Global Logistics, Fonterra (USA) Inc.\n",
            "     Effective Date: 2019-10-31\n",
            "--------------------\n"
          ]
        }
      ],
      "source": [
        "print(\"\\n--- 🧪 Test 3: Date Filter --- \")\n",
        "print(\"Finding all contracts effective on or after Jan 1, 2018...\\n\")\n",
        "\n",
        "test_3_results = contract_search_tool.invoke({\"min_effective_date\": \"2018-01-01\"})\n",
        "\n",
        "print(\"\\n--- Formatted Output ---\")\n",
        "display_test_results(test_3_results)"
      ]
    },
    {
      "cell_type": "markdown",
      "source": [
        "#### Test 4: Hybrid Search (Metadata + Vector)\n",
        "\n",
        "This is our most advanced test, combining a metadata filter with a semantic vector search. We will look for \"Supply\" contracts and then search their summaries for the *concept* of \"business continuity\".\n",
        "\n",
        "**What to look for:**\n",
        "- The **Cypher query** should contain both a `WHERE c.contract_type = $contract_type` clause AND a `WITH c, vector.similarity.cosine(...) AS score` clause.\n",
        "- The **parameters** will include both the `contract_type` and a long `embedding` vector.\n",
        "- The **output** should correctly identify the Fonterra MSA, as it's the only supply contract that discusses business continuity."
      ],
      "metadata": {
        "id": "CiR54oNRjAfO"
      }
    },
    {
      "cell_type": "code",
      "execution_count": 57,
      "metadata": {
        "colab": {
          "base_uri": "https://localhost:8080/"
        },
        "id": "pwhfGB282kEC",
        "outputId": "40e48ead-b0e4-4143-ac6d-544891bed5f2"
      },
      "outputs": [
        {
          "output_type": "stream",
          "name": "stdout",
          "text": [
            "\n",
            "--- 🧪 Test 4: Hybrid Search (Metadata + Vector) --- \n",
            "Finding 'Supply' contracts with a summary mentioning 'business continuity'...\n",
            "\n",
            "cypher_statement ->\n",
            "MATCH (c:Contract) WHERE c.contract_type = $contract_type WITH c, vector.similarity.cosine(c.embedding, $embedding) AS score WHERE score > 0.7 ORDER BY score DESC WITH collect(c) AS nodes\n",
            "    RETURN {\n",
            "        total_count: size(nodes),\n",
            "        example_contracts: [\n",
            "            el in nodes[..5] | {\n",
            "                summary: el.summary,\n",
            "                contract_type: el.contract_type,\n",
            "                effective_date: toString(el.effective_date),\n",
            "                parties: [(el)<-[:PARTY_TO]-(p:Party) | p.name]\n",
            "            }\n",
            "        ]\n",
            "    } AS output\n",
            "    \n",
            "\n",
            "\n",
            "params ->\n",
            "{'contract_type': 'Supply', 'embedding': [0.0025018458254635334, 0.008123455569148064, 0.003764278953894973, 0.002123128389939666, -0.0007903666701167822, -0.0017894835909828544, 0.012410693801939487, 0.04778783768415451, 0.010265043005347252, 0.019873052835464478, 0.05385565385222435, 0.020581098273396492, 0.03615596517920494, 0.03947891667485237, 0.002398149576038122, -0.05531328544020653, 0.04049183428287506, 0.005042096599936485, -0.07690490037202835, -0.018439888954162598, 0.006600257940590382, 0.0033197689335793257, -0.025333106517791748, -0.06498569250106812, -0.0066061303950846195, -0.020399009808897972, 0.028710128739476204, -0.004806984215974808, -0.05015290156006813, -0.02532949671149254, 0.04724934324622154, 0.04120891913771629, 0.0394902341067791, -0.08290885388851166, -0.006083572283387184, 0.013036235235631466, -0.013546064496040344, 0.028478845953941345, 0.020563296973705292, -0.038057778030633926, -0.018744971603155136, 0.029651733115315437, -0.02775011584162712, 0.03016900084912777, -0.03545278683304787, 0.01323659811168909, -0.05586184561252594, 0.04081622138619423, -0.04033994674682617, 0.029366930946707726, -0.011148910969495773, 0.026250677183270454, -0.036084216088056564, 0.02918201871216297, -0.05241082236170769, -0.004510525148361921, -0.03807862475514412, -0.049170076847076416, -0.0008709295652806759, 0.014393455348908901, 0.001173804746940732, 0.02566797472536564, 0.0025138130877166986, 0.001793171395547688, 0.06473102420568466, 0.008165428414940834, 0.03567399084568024, -0.03400643914937973, -0.05681370943784714, 0.03187322989106178, 0.011799494735896587, 0.046255141496658325, -0.019726170226931572, 0.0004594557103700936, -0.03454452008008957, -0.04416965693235397, 0.007100575137883425, -0.06161460280418396, 0.0053673177026212215, 0.04068288579583168, -0.010890880599617958, 0.028175659477710724, 0.05557604134082794, 0.043350767344236374, -0.0007304466562345624, -0.021160483360290527, 0.010955384001135826, -0.07805574685335159, -0.04542973265051842, -0.02496410720050335, 0.050307054072618484, 0.0083432886749506, -0.002936865435913205, -0.0014217410935088992, -0.023251552134752274, -0.02305789664387703, -0.09394823759794235, -0.05593635514378548, 0.12301052361726761, 0.034194741398096085, 0.03901594877243042, -0.005432762671262026, -0.04177610203623772, -0.03436873480677605, 0.030462950468063354, 0.034185368567705154, 0.01691591367125511, -0.03732237219810486, -0.013352499343454838, 0.04354409500956535, -0.04187183082103729, 0.008281296119093895, 0.021832244470715523, 0.022850805893540382, -0.019525056704878807, 0.007947850041091442, -0.006647048983722925, -0.024866215884685516, -0.013298574835062027, 0.03443404659628868, 0.020245462656021118, 0.0020620462018996477, -0.019173961132764816, 0.03794369846582413, 0.06042018160223961, -0.004610542673617601, -0.04619399830698967, -0.011991405859589577, -0.06967838853597641, 0.029245221987366676, 0.0930766835808754, -0.04371987283229828, 0.031788419932127, 0.07446577399969101, -0.05055699869990349, -0.03864254057407379, 0.02901407703757286, 0.02957393415272236, 0.04241255298256874, 0.04225612431764603, 0.004159405827522278, -0.01741987280547619, -0.06730187684297562, 0.0679689347743988, 0.010282193310558796, -0.019048409536480904, 0.0498914010822773, 0.05116090551018715, -0.01749064400792122, -0.031077001243829727, -0.021563176065683365, -0.018529891967773438, 0.06820817291736603, 0.007415576372295618, 0.03481968864798546, -0.028207506984472275, 0.06869442760944366, -0.077679842710495, 0.05131572484970093, 0.0037833203095942736, 0.04916755110025406, -0.011284464970231056, 0.017938269302248955, -0.026317309588193893, -0.018988829106092453, 0.03371107950806618, -0.03154510632157326, -0.032048702239990234, -0.02040969394147396, -0.02235669456422329, -0.056645896285772324, -0.023180358111858368, -0.02381715178489685, -0.12386184185743332, -0.0009442800655961037, 0.03907346725463867, 0.009728169068694115, -0.013197705149650574, -0.028873832896351814, -0.004838038235902786, 0.09991168975830078, 0.022968407720327377, -0.021721113473176956, -0.0294985119253397, 0.016951361671090126, 0.04869340360164642, 0.0282233078032732, -0.005065253935754299, 0.03894856572151184, -0.00521061522886157, -0.013358763419091702, 0.013422839343547821, -0.0334082655608654, 0.042335331439971924, -0.04820282757282257, -0.015109448693692684, -0.031046153977513313, 0.013846657238900661, -0.04954678937792778, -0.05820012837648392, 0.01986437849700451, -0.028559444472193718, 0.03098110854625702, 0.021873222663998604, -0.0043422444723546505, 0.05441557615995407, -0.011750096455216408, -0.05241997167468071, -0.021762192249298096, 0.020665934309363365, 0.029613839462399483, 0.017574386671185493, -0.004033082630485296, -0.06697052717208862, 0.022894486784934998, -0.0006663139211013913, 0.04940700903534889, 0.010823158547282219, 0.028626663610339165, -0.035757701843976974, 0.007287768647074699, -0.009091810323297977, 0.04051348567008972, 0.018982458859682083, -0.024445580318570137, 0.06412158161401749, -0.047358546406030655, 0.014592472463846207, 0.019457846879959106, -0.015251893550157547, 0.023930421099066734, 0.019282246008515358, 0.022200871258974075, 0.04376063123345375, -0.035258304327726364, 0.021988943219184875, 0.021284466609358788, -0.06607445329427719, -0.004473377950489521, -0.013083637692034245, -0.07347345352172852, 0.10354110598564148, 0.022800229489803314, 0.004858560394495726, 0.045002907514572144, 0.007026380393654108, 0.028677308931946754, -0.0341700054705143, 0.02020912617444992, -0.07927142083644867, -0.010128597728908062, -0.05027053877711296, 0.009140168316662312, -0.07433205842971802, -0.03236009180545807, -0.011159248650074005, 0.021523162722587585, -0.029867781326174736, 0.0228379275649786, -0.08559492230415344, 0.07457786798477173, -0.006028643809258938, -0.02554546855390072, -0.0347154401242733, -0.01102356519550085, -0.06025327369570732, 0.008955635130405426, -0.015059351921081543, 0.04169148579239845, -0.06283827871084213, 0.0221616979688406, -0.007034115958958864, -0.05269021540880203, -0.02846355549991131, -0.013698778115212917, -4.3434600229375064e-05, -0.011983656324446201, 0.01350075751543045, 0.021904611960053444, -0.027921566739678383, 0.015315770171582699, 0.0038851501885801554, 0.01145541574805975, -0.03393221274018288, -0.016163794323801994, -0.03616013750433922, 0.02116045542061329, 0.03164851292967796, -0.02335355058312416, -0.02374880202114582, 0.08722757548093796, 0.05947580188512802, 0.02375020645558834, 0.006224445998668671, 0.0296658743172884, 0.06451016664505005, 0.01712542213499546, 0.06789592653512955, -0.0010549320140853524, -0.0018248874694108963, 0.0037494341377168894, 0.04548870772123337, -0.015268632210791111, -0.012782587669789791, 0.011943945661187172, 0.031259339302778244, 0.0038901381194591522, -0.004127324093133211, -0.027465295046567917, 0.04781241714954376, -0.02797713875770569, 0.03476954996585846, -0.0011503975838422775, -0.00613744743168354, -0.04191949963569641, 0.011868885718286037, -0.2242898792028427, -0.012284659780561924, -0.013190959580242634, -0.014655856415629387, 0.04875493422150612, 0.008778031915426254, 0.054528459906578064, 0.03809559717774391, -0.007968495599925518, 0.039021898061037064, -0.0008488913881592453, 0.03342156112194061, -0.00964914821088314, -0.04289644584059715, -0.00285324570722878, -0.0060990434139966965, -0.039229489862918854, -0.014833212830126286, 0.017221448943018913, 0.006384442560374737, -0.03005676530301571, 0.0016898431349545717, 0.04801997169852257, 0.03621325641870499, 0.004353921394795179, -0.03200816363096237, 0.012928956188261509, 0.02500740997493267, -0.04651780426502228, -0.009677564725279808, -0.025120025500655174, 0.015796279534697533, 0.026848191395401955, -0.006754071917384863, 0.005539422854781151, 0.07934346795082092, -0.004204178228974342, -0.036108631640672684, -0.03460436314344406, -0.0049165827222168446, 0.031029142439365387, -0.012442436069250107, 0.032690875232219696, -0.01689092442393303, 0.004687335342168808, -0.03287576884031296, -0.018781373277306557, -0.014950438402593136, -0.0017670183442533016, -0.003029927611351013, 0.02631366439163685, -0.013236843049526215, 0.007673328276723623, -0.012997906655073166, 0.00048521615099161863, -0.0017322738422080874, 0.01995658129453659, -0.005438827443867922, 0.047730498015880585, -0.04828616604208946, -0.03211385756731033, 0.01833922415971756, 0.008860931731760502, 0.038920480757951736, -0.0336054190993309, 0.005550431553274393, 0.007275968790054321, 0.03510298579931259, -0.017731163650751114, 0.0689760372042656, -0.042752135545015335, 0.008346177637577057, -0.02224278450012207, 0.03594743460416794, -0.0071688443422317505, 0.07263606786727905, 0.009075844660401344, -0.0036964239552617073, 0.00988655723631382, 0.01703622378408909, -0.0272174384444952, 0.04003497585654259, -0.0158762875944376, 0.0037110289558768272, -0.045484527945518494, -0.04126433655619621, 0.09389042109251022, -0.041878264397382736, -0.031313832849264145, 0.022247178480029106, 0.012753468006849289, 0.02004425972700119, -0.0034844675101339817, 0.0447930283844471, 0.005522152874618769, -0.08234156668186188, 0.00267138727940619, -0.0022851754911243916, -0.034777719527482986, 0.014035237953066826, 0.05847429856657982, 0.010053286328911781, 0.03295287862420082, 0.06320829689502716, -0.01291720662266016, 0.009459303691983223, 0.034905314445495605, 0.005352555774152279, 0.03857114911079407, -0.10364954173564911, 0.00796541292220354, 0.03641093522310257, -0.044964179396629333, 0.026030711829662323, -0.0035434402525424957, 0.026463501155376434, 0.019524335861206055, 0.05011110380291939, 0.01771404780447483, 0.05089160054922104, -0.022921275347471237, -0.05308692902326584, -0.08561154454946518, 0.009473508223891258, -0.008266820572316647, -0.0481547936797142, 0.03280961886048317, -0.010129855014383793, -0.04272224381566048, 0.05380219966173172, -0.01909632608294487, 0.05099853500723839, -0.03196365386247635, -0.025211025029420853, -0.044696416705846786, -0.00996488519012928, 0.002293255412951112, -0.016408316791057587, -0.03861630707979202, -0.0008887812728062272, 0.030453549697995186, -0.04846476390957832, -0.02882784605026245, 0.0322132371366024, -0.03836575523018837, -0.0194748193025589, -0.012787162326276302, 0.0393824428319931, -0.03661077469587326, -0.016062404960393906, 0.060426149517297745, 0.005046613048762083, -0.02730645425617695, 0.07302609086036682, 0.020460542291402817, -0.0006817815010435879, 0.03378196805715561, 0.014736464247107506, -0.08941583335399628, 0.01833626627922058, 0.016961516812443733, -0.038363415747880936, -0.025209911167621613, 0.03567957505583763, -0.035770293325185776, 0.04227239266037941, 0.00213878252543509, 0.012666785158216953, 0.08298277854919434, -0.028935911133885384, 0.007931098341941833, -0.028045864775776863, -0.010584588162600994, 0.02233165130019188, -0.01874637044966221, 0.021505063399672508, 0.006583154201507568, -0.024821795523166656, -0.012888486497104168, -0.0316135473549366, 0.021423865109682083, 0.0003706156858243048, -0.00523759238421917, 0.03691728040575981, 0.09478050470352173, 0.008010034449398518, -0.0267881378531456, -0.09933409094810486, -0.024861842393875122, 0.006745930295437574, -0.03819316253066063, -0.03626248240470886, -0.006159626878798008, -0.021168135106563568, 0.027074690908193588, -0.035621609538793564, 0.041978251188993454, 0.03970000892877579, -0.008065903559327126, -0.011322603560984135, -0.061845164746046066, 0.044390249997377396, -0.0449613481760025, 0.005380876827985048, -0.03971855342388153, -0.036311209201812744, 0.05270976573228836, 0.023330669850111008, -0.01878049597144127, -0.02847098372876644, -0.005000215955078602, -0.0021336167119443417, 0.004469589330255985, -0.03903861343860626, -0.043862804770469666, 0.10713193565607071, 0.06621713936328888, 0.03067503497004509, 0.008331584744155407, 0.0299226026982069, 0.0319325290620327, 0.024075305089354515, -0.0031791243236511946, 0.034947481006383896, 0.0028126435354351997, -0.01584160327911377, 0.03488968312740326, 0.02165437489748001, 0.054937638342380524, -0.0018170180264860392, 0.011780202388763428, 0.023710714653134346, 0.031475625932216644, 0.11538709700107574, 0.038047969341278076, -0.01476240810006857, -0.009140023030340672, 0.02231595665216446, 0.006446781102567911, -0.0451287217438221, -0.00022836343850940466, -0.037171974778175354, 0.010905963368713856, -0.04350796714425087, 0.0002363121457165107, 0.023109249770641327, 0.02008851245045662, -0.025764087215065956, 0.036180417984724045, 0.01616487093269825, -0.01292530819773674, 0.035958003252744675, -0.0026162476278841496, 0.01825200766324997, 0.013504774309694767, 0.036802541464567184, 0.015982095152139664, -0.021934086456894875, 0.0128354886546731, -0.021739818155765533, -0.04217573255300522, 0.011002350598573685, 0.01736758090555668, -0.023583581671118736, 0.011491842567920685, 0.008124088868498802, 0.06579305231571198, -0.008429617621004581, 0.03748130798339844, -0.04347782954573631, -0.003768432419747114, 0.0020224484615027905, -0.0353231355547905, 0.007429611403495073, -0.023885680362582207, 0.007728472352027893, 0.014892563223838806, -0.05472559854388237, -0.012488260865211487, 0.039934396743774414, -0.03302529454231262, -0.04164643958210945, 0.014121773652732372, 0.07730550318956375, -0.023532003164291382, 0.01652464270591736, 0.058143265545368195, 0.017412975430488586, -0.02811238169670105, -0.011958856135606766, -0.036607299000024796, -0.055813197046518326, -0.01610589399933815, -0.048903752118349075, -0.0013104077661409974, 0.002030071336776018, -0.02352219633758068, -0.060220975428819656, -0.023600440472364426, 0.025817355141043663, -0.021997347474098206, -0.007621707860380411, -0.010661765933036804, 0.017186151817440987, -0.027872011065483093, 0.02189757116138935, 0.013910778798162937, -0.035119377076625824, -0.04632041975855827, 0.014575794339179993, -0.004918971098959446, -0.0032533984631299973, 0.0005530067719519138, 0.033367983996868134, -0.03993869200348854, 0.035509005188941956, 0.06725417822599411, -0.004986453335732222, -0.039427075535058975, 0.006418084725737572, 0.035659220069646835, -0.009958022274076939, 0.00995812751352787, 0.03183881938457489, 0.038434699177742004, -0.0174068845808506, 0.04387710988521576, 0.048459816724061966, -0.028425831347703934, 0.007956510409712791, 0.034760843962430954, -0.07914760708808899, 0.01955004781484604, 0.04015817493200302, -0.017709732055664062, 0.07309179753065109, -0.05374065414071083, -0.008424931205809116, -0.049519747495651245, 0.021599749103188515, -0.0705450251698494, -0.0026220909785479307, 0.017541658133268356, -0.00014183027087710798, 0.014370892196893692, -0.025865070521831512, -0.015126693993806839, 0.02666115202009678, -0.02564922161400318, 0.014222105033695698, -0.006834234576672316, 0.02924254909157753, 0.0025204354897141457, -0.019407454878091812, 0.023344190791249275, -0.013169366866350174, -0.018442681059241295, 0.006728959735482931, -0.002316378988325596, 0.03141792491078377, 0.038681983947753906, -0.021987933665513992, -0.012863483279943466, -0.017197947949171066, -0.031620319932699203, -0.014185030944645405, 0.01831805519759655, -0.024871282279491425, 0.026324201375246048, 0.007098957896232605, 0.043383631855249405, 0.002351841190829873, -0.05477550998330116, 0.0402931272983551, -0.0003994722501374781, -0.03290160372853279, -0.01943342760205269, -0.007735316641628742, -0.011219731532037258, 0.01580803655087948, -0.008709350600838661, 0.00521828792989254, -0.021646369248628616, 0.02896379679441452, -0.03689998388290405, -0.007762074936181307, -0.056919097900390625, -0.030372675508260727, 0.019101902842521667, 0.005740970838814974, 0.009340800344944, 0.05086764320731163, -0.07372960448265076, -0.005985525902360678, -0.03258616104722023, 0.019108224660158157, 0.021221624687314034, -0.005390323232859373, -0.04864701256155968, -0.02712882123887539, 0.034254081547260284, -4.3698990339180455e-05, -0.02929740399122238, -0.020584531128406525, 0.018414070829749107, -0.01045458298176527, 0.017543645575642586, 0.03857829421758652, 0.06012597307562828, -0.03052213229238987, -0.08547329157590866, -0.01770012639462948, -0.06957200169563293, 0.04829005151987076, 0.039620496332645416, 0.00818933080881834, 0.0022803479805588722, 0.046519555151462555, -0.00814217422157526, -0.005270302761346102, -0.023899339139461517, -0.012346029281616211, -0.01264135167002678, 0.020197385922074318, 0.049980394542217255, -0.015260865911841393, -0.019520480185747147, 0.05590413510799408, 0.016262244433164597, 0.009062442928552628, 0.026569919660687447, -0.01654871180653572, 0.013947892934083939, -0.001004909398034215, -0.0673564225435257, 0.005672798957675695, -0.019079256802797318, 0.02485627867281437, 0.022528836503624916, -0.02411831170320511, 0.01876145973801613, 0.011841676197946072, 0.04129377752542496, 0.017920201644301414, -0.07935049384832382, 0.06842950731515884, -0.005738299340009689, -0.03183913975954056, -0.07416203618049622, -0.05744203180074692, 0.025739016011357307, -0.011356865055859089]}\n",
            "\n",
            "\n",
            "******************\n",
            "\n",
            "Output from Contract Search Tool ->\n",
            "\n",
            "******************\n",
            "\n",
            "\n",
            "--- Formatted Output ---\n",
            "Total Contracts Found: 1\n",
            "Example Contracts:\n",
            "  1. Type: Supply\n",
            "     Parties: Aperture Global Logistics, Fonterra (USA) Inc.\n",
            "     Effective Date: 2019-10-31\n",
            "--------------------\n"
          ]
        }
      ],
      "source": [
        "print(\"\\n--- 🧪 Test 4: Hybrid Search (Metadata + Vector) --- \")\n",
        "print(\"Finding 'Supply' contracts with a summary mentioning 'business continuity'...\\n\")\n",
        "\n",
        "test_4_results = contract_search_tool.invoke({\n",
        "    \"contract_type\": \"Supply\",\n",
        "    \"summary_search\": \"agreements about business continuity or crisis management\"\n",
        "})\n",
        "\n",
        "print(\"\\n--- Formatted Output ---\")\n",
        "display_test_results(test_4_results)"
      ]
    },
    {
      "cell_type": "markdown",
      "metadata": {
        "id": "h1wHP5pU2kEC"
      },
      "source": [
        "## Congratulations!\n",
        "\n",
        "You have successfully completed Module 3. We have built and, most importantly, **verified** our `contract_search_tool`. It is now a reliable, bug-free component.\n",
        "\n",
        "With this proven tool in our arsenal, we are now ready to move on to Module 4, where we will build the LangGraph agent and bring our Intelligent Contract Analyst to life!"
      ]
    },
    {
      "cell_type": "markdown",
      "source": [
        "##Appendix"
      ],
      "metadata": {
        "id": "YDGVNWLvlBX9"
      }
    },
    {
      "cell_type": "markdown",
      "source": [
        "\n",
        "### The \"Why\": Graph Search vs. Vector/Lexical Search\n",
        "\n",
        "You might be asking, \"Why do we need a graph for this? Can't we just use a good vector search or a keyword (lexical) search?\"\n",
        "\n",
        "That's the key lesson of this cohort. While vector search is brilliant for finding things based on *conceptual similarity* (like finding \"crisis management\" when you search for \"business continuity\"), it fundamentally fails when a question's answer depends on **explicit, structured relationships**.\n",
        "\n",
        "Let's analyze our test cases to see where other methods fall short and why the graph shines.\n",
        "\n",
        "---\n",
        "\n",
        "#### **Can Test 1, 2, or 3 be answered by Vector/Lexical Search?** -> **No.**\n",
        "\n",
        "* **Test 1 (Finding 'Service' agreements):**\n",
        "    * **Lexical Search (`grep` or simple keyword):** This *might* work if the text \"Service Agreement\" appears clearly. But what if the contract is just titled \"Agreement\" and the *type* \"Service\" was an extracted metadata field? A simple text search wouldn't know the document's category.\n",
        "    * **Vector Search:** This is worse. A vector search for \"Service agreement\" would find any document that *talks about* services, even if it's a Supply contract with a small service clause. It doesn't understand the document's primary, structured `contract_type`.\n",
        "    * **Why Graph Search Wins:** The graph treats `contract_type` as a structured property of the `Contract` node. The query `WHERE c.contract_type = 'Service'` is precise, unambiguous, and instant. It answers based on facts, not similarity.\n",
        "\n",
        "* **Test 2 (Finding contracts involving 'Fonterra'):**\n",
        "    * **Lexical Search:** This would find any contract that *mentions* the word \"Fonterra\". This could include contracts that just reference Fonterra in passing, not ones where they are an actual signatory (`Party`). It's noisy and unreliable.\n",
        "    * **Vector Search:** This is completely ineffective for finding a specific named entity like \"Fonterra\".\n",
        "    * **Why Graph Search Wins:** Our graph has an explicit `:PARTY_TO` relationship. The query `MATCH (c:Contract)<-[:PARTY_TO]-(p:Party) WHERE p.name CONTAINS 'fonterra'` is asking \"Show me contracts that have a structural, legal connection to the entity named Fonterra.\" This is a relational query that only a graph can answer with 100% certainty.\n",
        "\n",
        "* **Test 3 (Finding contracts effective after '2018-01-01'):**\n",
        "    * **Lexical/Vector Search:** These methods have no concept of dates as structured, comparable data types. You could search for the text \"2018\", but you couldn't reliably perform a \"greater than or equal to\" operation. What about a contract signed in December 2017 that mentions plans for 2018? Text search would find it incorrectly.\n",
        "    * **Why Graph Search Wins:** Neo4j stores `effective_date` as a native `date` object. This allows us to perform precise, logical operations like `WHERE c.effective_date >= date('2018-01-01')`. The graph understands the *meaning* and structure of the date, not just the text.\n",
        "\n",
        "---\n",
        "\n",
        "#### **The Power of Hybrid Search (Test 4)**\n",
        "\n",
        "Test 4 shows why the combination is so powerful.\n",
        "\n",
        "1.  **\"Find 'Supply' contracts...\"**: This first part is a precise, structural filter. **Only the graph can do this reliably.** It instantly narrows our search space from 5 documents down to just the 1 that is a `Supply` contract.\n",
        "2.  **\"...mentioning 'business continuity'.\"**: This second part is a conceptual, semantic search. **This is where vector search excels.**\n",
        "\n",
        "A system with *only* vector search would have to search all 5 documents for \"business continuity\", which is inefficient and could return irrelevant clauses from other contract types.\n",
        "\n",
        "**GraphRAG shines by using the graph first to ask \"WHERE should I look?\" and then using vector search to ask \"WHAT am I looking for within that specific area?\"** This combination of precision and conceptual understanding is what allows us to build truly intelligent and reliable AI systems."
      ],
      "metadata": {
        "id": "nh9022k3lFnc"
      }
    }
  ],
  "metadata": {
    "kernelspec": {
      "display_name": "Python 3",
      "language": "python",
      "name": "python3"
    },
    "language_info": {
      "codemirror_mode": {
        "name": "ipython",
        "version": 3
      },
      "file_extension": ".py",
      "mimetype": "text/x-python",
      "name": "python",
      "nbconvert_exporter": "python",
      "pygments_lexer": "ipython3",
      "version": "3.9.12"
    },
    "colab": {
      "provenance": []
    }
  },
  "nbformat": 4,
  "nbformat_minor": 0
}